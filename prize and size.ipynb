{
 "cells": [
  {
   "cell_type": "code",
   "execution_count": 1,
   "id": "9d460a60",
   "metadata": {},
   "outputs": [],
   "source": [
    "import warnings\n",
    "\n",
    "import matplotlib.pyplot as plt\n",
    "import pandas as pd\n",
    "# import wqet_grader\n",
    "from sklearn.linear_model import LinearRegression\n",
    "from sklearn.metrics import mean_absolute_error\n",
    "from sklearn.utils.validation import check_is_fitted\n",
    "\n",
    "warnings.simplefilter(action=\"ignore\", category=FutureWarning)"
   ]
  },
  {
   "cell_type": "markdown",
   "id": "478926ae",
   "metadata": {},
   "source": [
    "In this project, you're working for a client who wants to create a model that can predict the price of apartments in the city of Buenos Aires — with a focus on apartments that cost less than $400,000 USD.WQU WorldQuant University Applied Data Science Lab QQQQ"
   ]
  },
  {
   "cell_type": "markdown",
   "id": "2b9b53b4",
   "metadata": {},
   "source": [
    "## Prepare Data\n",
    "### Import\n",
    "In the previous project, we cleaned our data files one-by-one. This isn't an issue when you're working with just three files, but imagine if you had several hundred! One way to automate the data importing and cleaning process is by writing a function. This will make sure that all our data undergoes the same process, and that our analysis is easily reproducible — something that's very important in science in general and data science in particular."
   ]
  },
  {
   "cell_type": "markdown",
   "id": "f5cc624b",
   "metadata": {},
   "source": [
    "<b> Task 2.1.1: Write a function named wrangle that takes a file path as an argument and returns a DataFrame.</b>"
   ]
  },
  {
   "cell_type": "code",
   "execution_count": 2,
   "id": "ed83d8af",
   "metadata": {},
   "outputs": [],
   "source": [
    "def wrangle(filepath):\n",
    "    df = pd.read_csv(filepath)\n",
    "    #subset to \"capital federal\"\n",
    "    mask_ba = df[\"place_with_parent_names\"].str.contains(\"Capital Federal\")\n",
    "    #subset to \"Apartment\"\n",
    "    mask_apt = df[\"property_type\"] == \"apartment\"\n",
    "    #subset to proce_usd\n",
    "    mask_price = df[\"price_aprox_usd\"] < 400_000\n",
    "    df = df[mask_ba & mask_apt & mask_price]\n",
    "    #subset to area\n",
    "    low , high = df[\"surface_covered_in_m2\"].quantile([0.1, 0.9])\n",
    "    mask_area = df[\"surface_covered_in_m2\"].between(low,high)\n",
    "    df = df[mask_area]\n",
    "    return df"
   ]
  },
  {
   "cell_type": "markdown",
   "id": "0d72f178",
   "metadata": {},
   "source": [
    "<b> Task 2.1.2: Use your wrangle function to create a DataFrame df from the CSV file data/buenos-aires-real-estate-1.csv.</b>"
   ]
  },
  {
   "cell_type": "code",
   "execution_count": 3,
   "id": "a0ef0259",
   "metadata": {},
   "outputs": [
    {
     "name": "stdout",
     "output_type": "stream",
     "text": [
      "df shape: (1343, 17)\n"
     ]
    },
    {
     "data": {
      "text/html": [
       "<div>\n",
       "<style scoped>\n",
       "    .dataframe tbody tr th:only-of-type {\n",
       "        vertical-align: middle;\n",
       "    }\n",
       "\n",
       "    .dataframe tbody tr th {\n",
       "        vertical-align: top;\n",
       "    }\n",
       "\n",
       "    .dataframe thead th {\n",
       "        text-align: right;\n",
       "    }\n",
       "</style>\n",
       "<table border=\"1\" class=\"dataframe\">\n",
       "  <thead>\n",
       "    <tr style=\"text-align: right;\">\n",
       "      <th></th>\n",
       "      <th>Unnamed: 0</th>\n",
       "      <th>operation</th>\n",
       "      <th>property_type</th>\n",
       "      <th>place_with_parent_names</th>\n",
       "      <th>lat-lon</th>\n",
       "      <th>price</th>\n",
       "      <th>currency</th>\n",
       "      <th>price_aprox_local_currency</th>\n",
       "      <th>price_aprox_usd</th>\n",
       "      <th>surface_total_in_m2</th>\n",
       "      <th>surface_covered_in_m2</th>\n",
       "      <th>price_usd_per_m2</th>\n",
       "      <th>price_per_m2</th>\n",
       "      <th>floor</th>\n",
       "      <th>rooms</th>\n",
       "      <th>expenses</th>\n",
       "      <th>properati_url</th>\n",
       "    </tr>\n",
       "  </thead>\n",
       "  <tbody>\n",
       "    <tr>\n",
       "      <th>4</th>\n",
       "      <td>5</td>\n",
       "      <td>sell</td>\n",
       "      <td>apartment</td>\n",
       "      <td>|Argentina|Capital Federal|Chacarita|</td>\n",
       "      <td>-34.5846508988,-58.4546932614</td>\n",
       "      <td>129000.0</td>\n",
       "      <td>USD</td>\n",
       "      <td>1955949.6</td>\n",
       "      <td>129000.0</td>\n",
       "      <td>76.0</td>\n",
       "      <td>70.0</td>\n",
       "      <td>1697.368421</td>\n",
       "      <td>1842.857143</td>\n",
       "      <td>NaN</td>\n",
       "      <td>NaN</td>\n",
       "      <td>NaN</td>\n",
       "      <td>http://chacarita.properati.com.ar/10qlv_venta_...</td>\n",
       "    </tr>\n",
       "    <tr>\n",
       "      <th>9</th>\n",
       "      <td>10</td>\n",
       "      <td>sell</td>\n",
       "      <td>apartment</td>\n",
       "      <td>|Argentina|Capital Federal|Villa Luro|</td>\n",
       "      <td>-34.6389789,-58.500115</td>\n",
       "      <td>87000.0</td>\n",
       "      <td>USD</td>\n",
       "      <td>1319128.8</td>\n",
       "      <td>87000.0</td>\n",
       "      <td>48.0</td>\n",
       "      <td>42.0</td>\n",
       "      <td>1812.500000</td>\n",
       "      <td>2071.428571</td>\n",
       "      <td>NaN</td>\n",
       "      <td>NaN</td>\n",
       "      <td>NaN</td>\n",
       "      <td>http://villa-luro.properati.com.ar/12m82_venta...</td>\n",
       "    </tr>\n",
       "    <tr>\n",
       "      <th>29</th>\n",
       "      <td>30</td>\n",
       "      <td>sell</td>\n",
       "      <td>apartment</td>\n",
       "      <td>|Argentina|Capital Federal|Caballito|</td>\n",
       "      <td>-34.615847,-58.459957</td>\n",
       "      <td>118000.0</td>\n",
       "      <td>USD</td>\n",
       "      <td>1789163.2</td>\n",
       "      <td>118000.0</td>\n",
       "      <td>NaN</td>\n",
       "      <td>54.0</td>\n",
       "      <td>NaN</td>\n",
       "      <td>2185.185185</td>\n",
       "      <td>NaN</td>\n",
       "      <td>2.0</td>\n",
       "      <td>NaN</td>\n",
       "      <td>http://caballito.properati.com.ar/11wqh_venta_...</td>\n",
       "    </tr>\n",
       "    <tr>\n",
       "      <th>40</th>\n",
       "      <td>41</td>\n",
       "      <td>sell</td>\n",
       "      <td>apartment</td>\n",
       "      <td>|Argentina|Capital Federal|Constituci�n|</td>\n",
       "      <td>-34.6252219,-58.3823825</td>\n",
       "      <td>57000.0</td>\n",
       "      <td>USD</td>\n",
       "      <td>864256.8</td>\n",
       "      <td>57000.0</td>\n",
       "      <td>42.0</td>\n",
       "      <td>42.0</td>\n",
       "      <td>1357.142857</td>\n",
       "      <td>1357.142857</td>\n",
       "      <td>5.0</td>\n",
       "      <td>2.0</td>\n",
       "      <td>364.0</td>\n",
       "      <td>http://constitucion.properati.com.ar/k2f0_vent...</td>\n",
       "    </tr>\n",
       "    <tr>\n",
       "      <th>41</th>\n",
       "      <td>42</td>\n",
       "      <td>sell</td>\n",
       "      <td>apartment</td>\n",
       "      <td>|Argentina|Capital Federal|Once|</td>\n",
       "      <td>-34.6106102,-58.4125107</td>\n",
       "      <td>90000.0</td>\n",
       "      <td>USD</td>\n",
       "      <td>1364616.0</td>\n",
       "      <td>90000.0</td>\n",
       "      <td>57.0</td>\n",
       "      <td>50.0</td>\n",
       "      <td>1578.947368</td>\n",
       "      <td>1800.000000</td>\n",
       "      <td>NaN</td>\n",
       "      <td>3.0</td>\n",
       "      <td>450.0</td>\n",
       "      <td>http://once.properati.com.ar/suwa_venta_depart...</td>\n",
       "    </tr>\n",
       "  </tbody>\n",
       "</table>\n",
       "</div>"
      ],
      "text/plain": [
       "    Unnamed: 0 operation property_type  \\\n",
       "4            5      sell     apartment   \n",
       "9           10      sell     apartment   \n",
       "29          30      sell     apartment   \n",
       "40          41      sell     apartment   \n",
       "41          42      sell     apartment   \n",
       "\n",
       "                     place_with_parent_names                        lat-lon  \\\n",
       "4      |Argentina|Capital Federal|Chacarita|  -34.5846508988,-58.4546932614   \n",
       "9     |Argentina|Capital Federal|Villa Luro|         -34.6389789,-58.500115   \n",
       "29     |Argentina|Capital Federal|Caballito|          -34.615847,-58.459957   \n",
       "40  |Argentina|Capital Federal|Constituci�n|        -34.6252219,-58.3823825   \n",
       "41          |Argentina|Capital Federal|Once|        -34.6106102,-58.4125107   \n",
       "\n",
       "       price currency  price_aprox_local_currency  price_aprox_usd  \\\n",
       "4   129000.0      USD                   1955949.6         129000.0   \n",
       "9    87000.0      USD                   1319128.8          87000.0   \n",
       "29  118000.0      USD                   1789163.2         118000.0   \n",
       "40   57000.0      USD                    864256.8          57000.0   \n",
       "41   90000.0      USD                   1364616.0          90000.0   \n",
       "\n",
       "    surface_total_in_m2  surface_covered_in_m2  price_usd_per_m2  \\\n",
       "4                  76.0                   70.0       1697.368421   \n",
       "9                  48.0                   42.0       1812.500000   \n",
       "29                  NaN                   54.0               NaN   \n",
       "40                 42.0                   42.0       1357.142857   \n",
       "41                 57.0                   50.0       1578.947368   \n",
       "\n",
       "    price_per_m2  floor  rooms  expenses  \\\n",
       "4    1842.857143    NaN    NaN       NaN   \n",
       "9    2071.428571    NaN    NaN       NaN   \n",
       "29   2185.185185    NaN    2.0       NaN   \n",
       "40   1357.142857    5.0    2.0     364.0   \n",
       "41   1800.000000    NaN    3.0     450.0   \n",
       "\n",
       "                                        properati_url  \n",
       "4   http://chacarita.properati.com.ar/10qlv_venta_...  \n",
       "9   http://villa-luro.properati.com.ar/12m82_venta...  \n",
       "29  http://caballito.properati.com.ar/11wqh_venta_...  \n",
       "40  http://constitucion.properati.com.ar/k2f0_vent...  \n",
       "41  http://once.properati.com.ar/suwa_venta_depart...  "
      ]
     },
     "execution_count": 3,
     "metadata": {},
     "output_type": "execute_result"
    }
   ],
   "source": [
    "df = wrangle(r\"C:\\Users\\MEER\\Desktop\\applied datascience course\\project 2 house price prediction\\buenos-aires-real-estate-1.csv\")\n",
    "print(\"df shape:\", df.shape)\n",
    "df.head()"
   ]
  },
  {
   "cell_type": "markdown",
   "id": "3e8c41cf",
   "metadata": {},
   "source": [
    "For this project, we want to build a model for apartments in Buenos Aires proper (\"Capital Federal\") that cost less than $400,000. Looking at the first five rows of our DataFrame, we can already see that there properties that fall outside those parameters. So our first cleaning task is to remove those observations from our dataset. Since we're using a function to import and clean our data, we'll need to make changes there."
   ]
  },
  {
   "cell_type": "markdown",
   "id": "43ae97d4",
   "metadata": {},
   "source": [
    "<b> Task 2.1.3: Add to your wrangle function so that the DataFrame it returns only includes apartments in Buenos Aires (\"Capital Federal\") that cost less than $400,000 USD. Then recreate df from data/buenos-aires-real-estate-1.csv by re-running the cells above.</b>"
   ]
  },
  {
   "cell_type": "code",
   "execution_count": 4,
   "id": "f038ca8a",
   "metadata": {},
   "outputs": [],
   "source": [
    "mask_ba = df[\"place_with_parent_names\"].str.contains(\"Capital Federal\")\n",
    "mask_apt = df[\"property_type\"] == \"apartment\"\n",
    "mask_price = df[\"price_aprox_usd\"] < 400_000\n",
    "\n",
    "#copy all inside wrangle function"
   ]
  },
  {
   "cell_type": "code",
   "execution_count": 5,
   "id": "6b3d83be",
   "metadata": {},
   "outputs": [],
   "source": [
    "# Check your work\n",
    "assert (\n",
    "    len(df) <= 1781\n",
    "), f\"`df` should have no more than 1781 observations, not {len(df)}.\""
   ]
  },
  {
   "cell_type": "markdown",
   "id": "9e181030",
   "metadata": {},
   "source": [
    "### Explore\n",
    "We saw in the previous project that property size is an important factor in determining price. With that in mind, let's look at the distribution of apartment sizes in our dataset."
   ]
  },
  {
   "cell_type": "markdown",
   "id": "a653c0b4",
   "metadata": {},
   "source": [
    "<b> Task 2.1.4: Create a histogram of \"surface_covered_in_m2\". Make sure that the x-axis has the label \"Area [sq meters]\" and the plot has the title \"Distribution of Apartment Sizes\".</b>"
   ]
  },
  {
   "cell_type": "code",
   "execution_count": 6,
   "id": "bef1ba7a",
   "metadata": {},
   "outputs": [
    {
     "data": {
      "text/plain": [
       "Text(0.5, 1.0, 'Distribution of Apartment Sizes')"
      ]
     },
     "execution_count": 6,
     "metadata": {},
     "output_type": "execute_result"
    },
    {
     "data": {
      "image/png": "[encoded data removed]",
      "text/plain": [
       "<Figure size 432x288 with 1 Axes>"
      ]
     },
     "metadata": {
      "needs_background": "light"
     },
     "output_type": "display_data"
    }
   ],
   "source": [
    "plt.hist(df[\"surface_covered_in_m2\"])\n",
    "plt.xlabel(\"Area [sq meters]\")\n",
    "plt.title(\"Distribution of Apartment Sizes\")"
   ]
  },
  {
   "cell_type": "markdown",
   "id": "b068db25",
   "metadata": {},
   "source": [
    "Yikes! When you see a histogram like the one above, it suggests that there are outliers in your dataset. This can affect model performance — especially in the sorts of linear models we'll learn about in this project. To confirm, let's look at the summary statistics for the \"surface_covered_in_m2\" feature."
   ]
  },
  {
   "cell_type": "markdown",
   "id": "00e93629",
   "metadata": {},
   "source": [
    "<b> Task 2.1.5: Calculate the summary statistics for df using the describe method.</b>"
   ]
  },
  {
   "cell_type": "code",
   "execution_count": 7,
   "id": "0e9159e3",
   "metadata": {},
   "outputs": [
    {
     "data": {
      "text/plain": [
       "count    1343.000000\n",
       "mean       55.076694\n",
       "std        18.160427\n",
       "min        31.000000\n",
       "25%        40.000000\n",
       "50%        50.000000\n",
       "75%        68.500000\n",
       "max       100.000000\n",
       "Name: surface_covered_in_m2, dtype: float64"
      ]
     },
     "execution_count": 7,
     "metadata": {},
     "output_type": "execute_result"
    }
   ],
   "source": [
    "df.describe()[\"surface_covered_in_m2\"]"
   ]
  },
  {
   "cell_type": "markdown",
   "id": "d61a76be",
   "metadata": {},
   "source": [
    "The statistics above confirm what we suspected. While most of the apartments in our dataset are smaller that 73 square meters, there are some that are several thousand square meters. The best thing to do is to change our wrangle function and remove them from the dataset."
   ]
  },
  {
   "cell_type": "code",
   "execution_count": 8,
   "id": "5fff9f29",
   "metadata": {},
   "outputs": [],
   "source": [
    "low , high = df[\"surface_covered_in_m2\"].quantile([0.1, 0.9])\n",
    "mask_area = df[\"surface_covered_in_m2\"].between(low,high)\n"
   ]
  },
  {
   "cell_type": "markdown",
   "id": "65cd7c8f",
   "metadata": {},
   "source": [
    "This plot suggests that there's a moderate positive correlation between apartment price and size. This means that if thing we want to predict is price, size will be a good feature to include."
   ]
  },
  {
   "cell_type": "markdown",
   "id": "23aa564f",
   "metadata": {},
   "source": [
    "# intro to linear model\n",
    "### Split\n",
    "A key part in any model-building project is separating your target (the thing you want to predict) from your features (the information your model will use to make its predictions). Since this is our first model, we'll use just one feature: apartment size."
   ]
  },
  {
   "cell_type": "code",
   "execution_count": 9,
   "id": "d1b7e390",
   "metadata": {
    "scrolled": true
   },
   "outputs": [
    {
     "data": {
      "text/html": [
       "<div>\n",
       "<style scoped>\n",
       "    .dataframe tbody tr th:only-of-type {\n",
       "        vertical-align: middle;\n",
       "    }\n",
       "\n",
       "    .dataframe tbody tr th {\n",
       "        vertical-align: top;\n",
       "    }\n",
       "\n",
       "    .dataframe thead th {\n",
       "        text-align: right;\n",
       "    }\n",
       "</style>\n",
       "<table border=\"1\" class=\"dataframe\">\n",
       "  <thead>\n",
       "    <tr style=\"text-align: right;\">\n",
       "      <th></th>\n",
       "      <th>Unnamed: 0</th>\n",
       "      <th>operation</th>\n",
       "      <th>property_type</th>\n",
       "      <th>place_with_parent_names</th>\n",
       "      <th>lat-lon</th>\n",
       "      <th>price</th>\n",
       "      <th>currency</th>\n",
       "      <th>price_aprox_local_currency</th>\n",
       "      <th>price_aprox_usd</th>\n",
       "      <th>surface_total_in_m2</th>\n",
       "      <th>surface_covered_in_m2</th>\n",
       "      <th>price_usd_per_m2</th>\n",
       "      <th>price_per_m2</th>\n",
       "      <th>floor</th>\n",
       "      <th>rooms</th>\n",
       "      <th>expenses</th>\n",
       "      <th>properati_url</th>\n",
       "    </tr>\n",
       "  </thead>\n",
       "  <tbody>\n",
       "    <tr>\n",
       "      <th>4</th>\n",
       "      <td>5</td>\n",
       "      <td>sell</td>\n",
       "      <td>apartment</td>\n",
       "      <td>|Argentina|Capital Federal|Chacarita|</td>\n",
       "      <td>-34.5846508988,-58.4546932614</td>\n",
       "      <td>129000.0</td>\n",
       "      <td>USD</td>\n",
       "      <td>1955949.6</td>\n",
       "      <td>129000.0</td>\n",
       "      <td>76.0</td>\n",
       "      <td>70.0</td>\n",
       "      <td>1697.368421</td>\n",
       "      <td>1842.857143</td>\n",
       "      <td>NaN</td>\n",
       "      <td>NaN</td>\n",
       "      <td>NaN</td>\n",
       "      <td>http://chacarita.properati.com.ar/10qlv_venta_...</td>\n",
       "    </tr>\n",
       "    <tr>\n",
       "      <th>9</th>\n",
       "      <td>10</td>\n",
       "      <td>sell</td>\n",
       "      <td>apartment</td>\n",
       "      <td>|Argentina|Capital Federal|Villa Luro|</td>\n",
       "      <td>-34.6389789,-58.500115</td>\n",
       "      <td>87000.0</td>\n",
       "      <td>USD</td>\n",
       "      <td>1319128.8</td>\n",
       "      <td>87000.0</td>\n",
       "      <td>48.0</td>\n",
       "      <td>42.0</td>\n",
       "      <td>1812.500000</td>\n",
       "      <td>2071.428571</td>\n",
       "      <td>NaN</td>\n",
       "      <td>NaN</td>\n",
       "      <td>NaN</td>\n",
       "      <td>http://villa-luro.properati.com.ar/12m82_venta...</td>\n",
       "    </tr>\n",
       "    <tr>\n",
       "      <th>29</th>\n",
       "      <td>30</td>\n",
       "      <td>sell</td>\n",
       "      <td>apartment</td>\n",
       "      <td>|Argentina|Capital Federal|Caballito|</td>\n",
       "      <td>-34.615847,-58.459957</td>\n",
       "      <td>118000.0</td>\n",
       "      <td>USD</td>\n",
       "      <td>1789163.2</td>\n",
       "      <td>118000.0</td>\n",
       "      <td>NaN</td>\n",
       "      <td>54.0</td>\n",
       "      <td>NaN</td>\n",
       "      <td>2185.185185</td>\n",
       "      <td>NaN</td>\n",
       "      <td>2.0</td>\n",
       "      <td>NaN</td>\n",
       "      <td>http://caballito.properati.com.ar/11wqh_venta_...</td>\n",
       "    </tr>\n",
       "    <tr>\n",
       "      <th>40</th>\n",
       "      <td>41</td>\n",
       "      <td>sell</td>\n",
       "      <td>apartment</td>\n",
       "      <td>|Argentina|Capital Federal|Constituci�n|</td>\n",
       "      <td>-34.6252219,-58.3823825</td>\n",
       "      <td>57000.0</td>\n",
       "      <td>USD</td>\n",
       "      <td>864256.8</td>\n",
       "      <td>57000.0</td>\n",
       "      <td>42.0</td>\n",
       "      <td>42.0</td>\n",
       "      <td>1357.142857</td>\n",
       "      <td>1357.142857</td>\n",
       "      <td>5.0</td>\n",
       "      <td>2.0</td>\n",
       "      <td>364.0</td>\n",
       "      <td>http://constitucion.properati.com.ar/k2f0_vent...</td>\n",
       "    </tr>\n",
       "    <tr>\n",
       "      <th>41</th>\n",
       "      <td>42</td>\n",
       "      <td>sell</td>\n",
       "      <td>apartment</td>\n",
       "      <td>|Argentina|Capital Federal|Once|</td>\n",
       "      <td>-34.6106102,-58.4125107</td>\n",
       "      <td>90000.0</td>\n",
       "      <td>USD</td>\n",
       "      <td>1364616.0</td>\n",
       "      <td>90000.0</td>\n",
       "      <td>57.0</td>\n",
       "      <td>50.0</td>\n",
       "      <td>1578.947368</td>\n",
       "      <td>1800.000000</td>\n",
       "      <td>NaN</td>\n",
       "      <td>3.0</td>\n",
       "      <td>450.0</td>\n",
       "      <td>http://once.properati.com.ar/suwa_venta_depart...</td>\n",
       "    </tr>\n",
       "  </tbody>\n",
       "</table>\n",
       "</div>"
      ],
      "text/plain": [
       "    Unnamed: 0 operation property_type  \\\n",
       "4            5      sell     apartment   \n",
       "9           10      sell     apartment   \n",
       "29          30      sell     apartment   \n",
       "40          41      sell     apartment   \n",
       "41          42      sell     apartment   \n",
       "\n",
       "                     place_with_parent_names                        lat-lon  \\\n",
       "4      |Argentina|Capital Federal|Chacarita|  -34.5846508988,-58.4546932614   \n",
       "9     |Argentina|Capital Federal|Villa Luro|         -34.6389789,-58.500115   \n",
       "29     |Argentina|Capital Federal|Caballito|          -34.615847,-58.459957   \n",
       "40  |Argentina|Capital Federal|Constituci�n|        -34.6252219,-58.3823825   \n",
       "41          |Argentina|Capital Federal|Once|        -34.6106102,-58.4125107   \n",
       "\n",
       "       price currency  price_aprox_local_currency  price_aprox_usd  \\\n",
       "4   129000.0      USD                   1955949.6         129000.0   \n",
       "9    87000.0      USD                   1319128.8          87000.0   \n",
       "29  118000.0      USD                   1789163.2         118000.0   \n",
       "40   57000.0      USD                    864256.8          57000.0   \n",
       "41   90000.0      USD                   1364616.0          90000.0   \n",
       "\n",
       "    surface_total_in_m2  surface_covered_in_m2  price_usd_per_m2  \\\n",
       "4                  76.0                   70.0       1697.368421   \n",
       "9                  48.0                   42.0       1812.500000   \n",
       "29                  NaN                   54.0               NaN   \n",
       "40                 42.0                   42.0       1357.142857   \n",
       "41                 57.0                   50.0       1578.947368   \n",
       "\n",
       "    price_per_m2  floor  rooms  expenses  \\\n",
       "4    1842.857143    NaN    NaN       NaN   \n",
       "9    2071.428571    NaN    NaN       NaN   \n",
       "29   2185.185185    NaN    2.0       NaN   \n",
       "40   1357.142857    5.0    2.0     364.0   \n",
       "41   1800.000000    NaN    3.0     450.0   \n",
       "\n",
       "                                        properati_url  \n",
       "4   http://chacarita.properati.com.ar/10qlv_venta_...  \n",
       "9   http://villa-luro.properati.com.ar/12m82_venta...  \n",
       "29  http://caballito.properati.com.ar/11wqh_venta_...  \n",
       "40  http://constitucion.properati.com.ar/k2f0_vent...  \n",
       "41  http://once.properati.com.ar/suwa_venta_depart...  "
      ]
     },
     "execution_count": 9,
     "metadata": {},
     "output_type": "execute_result"
    }
   ],
   "source": [
    "df.head()"
   ]
  },
  {
   "cell_type": "code",
   "execution_count": 10,
   "id": "a76fe8f6",
   "metadata": {},
   "outputs": [
    {
     "data": {
      "text/plain": [
       "<matplotlib.collections.PathCollection at 0x20296654940>"
      ]
     },
     "execution_count": 10,
     "metadata": {},
     "output_type": "execute_result"
    },
    {
     "data": {
      "image/png": "[encoded data removed]",
      "text/plain": [
       "<Figure size 432x288 with 1 Axes>"
      ]
     },
     "metadata": {
      "needs_background": "light"
     },
     "output_type": "display_data"
    }
   ],
   "source": [
    "plt.scatter(df[\"surface_covered_in_m2\"],df[\"price_usd_per_m2\"])"
   ]
  },
  {
   "cell_type": "markdown",
   "id": "559410b5",
   "metadata": {},
   "source": [
    "<b> Task 2.1.8: Create the feature matrix named X_train, which you'll use to train your model. It should contain one feature only: [\"surface_covered_in_m2\"]. Remember that your feature matrix should always be two-dimensional.</b>"
   ]
  },
  {
   "cell_type": "code",
   "execution_count": 11,
   "id": "e128fd02",
   "metadata": {},
   "outputs": [
    {
     "data": {
      "text/plain": [
       "(1343, 1)"
      ]
     },
     "execution_count": 11,
     "metadata": {},
     "output_type": "execute_result"
    }
   ],
   "source": [
    "features = [\"surface_covered_in_m2\"]\n",
    "X_train = df[features]\n",
    "X_train.shape"
   ]
  },
  {
   "cell_type": "code",
   "execution_count": 12,
   "id": "7ca6043b",
   "metadata": {},
   "outputs": [],
   "source": [
    "# Check your work\n",
    "assert X_train.shape == (\n",
    "    1343,\n",
    "    1,\n",
    "), f\"The shape of `X_train` should be (1343, 1), not {X_train.shape}.\""
   ]
  },
  {
   "cell_type": "markdown",
   "id": "1d8e3988",
   "metadata": {},
   "source": [
    "Now that we have a features, the next step is to create a target. (By the way, you may have noticed that we're adding a _train tag to the variable names for our feature matrix and target vector. This is to remind us that this is the data we'll use to train our model, and not the data we'll use to test it.)"
   ]
  },
  {
   "cell_type": "markdown",
   "id": "ffff8450",
   "metadata": {},
   "source": [
    "<b> Task 2.1.9: Create the target vector named y_train, which you'll use to train your model. Your target should be \"price_aprox_usd\". Remember that, in most cases, your target vector should be one-dimensional.</b>"
   ]
  },
  {
   "cell_type": "code",
   "execution_count": 13,
   "id": "34454375",
   "metadata": {},
   "outputs": [
    {
     "data": {
      "text/plain": [
       "(1343,)"
      ]
     },
     "execution_count": 13,
     "metadata": {},
     "output_type": "execute_result"
    }
   ],
   "source": [
    "target = \"price_aprox_usd\"\n",
    "y_train = df[target]\n",
    "y_train.shape\n",
    "# target should be a series not a dataframe"
   ]
  },
  {
   "cell_type": "code",
   "execution_count": 14,
   "id": "85a9ca69",
   "metadata": {},
   "outputs": [],
   "source": [
    "# Check your work\n",
    "assert y_train.shape == (1343,)"
   ]
  },
  {
   "cell_type": "markdown",
   "id": "a0d9e775",
   "metadata": {},
   "source": [
    "# Build Model\n",
    "### Baseline\n",
    "The first step in building a model is baselining. To do this, ask yourself how you will know if the model you build is performing well?\" One way to think about this is to see how a \"dumb\" model would perform on the same data. Some people also call this a naïve or baseline model, but it's always a model makes only one prediction — in this case, it predicts the same price regardless of an apartment's size. So let's start by figuring out what our baseline model's prediction should be."
   ]
  },
  {
   "cell_type": "markdown",
   "id": "0ac3043c",
   "metadata": {},
   "source": [
    "<b> Task 2.1.10: Calculate the mean of your target vector y_train and assign it to the variable y_mean.</b>"
   ]
  },
  {
   "cell_type": "code",
   "execution_count": 15,
   "id": "a025ce67",
   "metadata": {},
   "outputs": [
    {
     "data": {
      "text/plain": [
       "135527.83871928512"
      ]
     },
     "execution_count": 15,
     "metadata": {},
     "output_type": "execute_result"
    }
   ],
   "source": [
    "y_mean = y_train.mean()\n",
    "y_mean"
   ]
  },
  {
   "cell_type": "markdown",
   "id": "2be94c9c",
   "metadata": {},
   "source": [
    "Now that we have the one prediction that our dumb model will always make, we need to generate a list that repeats the prediction for every observation in our dataset."
   ]
  },
  {
   "cell_type": "markdown",
   "id": "1fb927dc",
   "metadata": {},
   "source": [
    "<b> Task 2.1.11: Create a list named y_pred_baseline that contains the value of y_mean repeated so that it's the same length at y.</b>"
   ]
  },
  {
   "cell_type": "code",
   "execution_count": 16,
   "id": "463f2cf0",
   "metadata": {},
   "outputs": [
    {
     "data": {
      "text/plain": [
       "True"
      ]
     },
     "execution_count": 16,
     "metadata": {},
     "output_type": "execute_result"
    }
   ],
   "source": [
    "y_pred_baseline = [y_mean] * len(y_train)\n",
    "y_pred_baseline\n",
    "len(y_pred_baseline) == len(y_train)"
   ]
  },
  {
   "cell_type": "markdown",
   "id": "aab28165",
   "metadata": {},
   "source": [
    "So how does our baseline model perform? One way to evaluate it is by plotting it on top of the scatter plot we made above."
   ]
  },
  {
   "cell_type": "code",
   "execution_count": 17,
   "id": "537429e5",
   "metadata": {},
   "outputs": [
    {
     "data": {
      "image/png": "[encoded data removed]",
      "text/plain": [
       "<Figure size 432x288 with 1 Axes>"
      ]
     },
     "metadata": {
      "needs_background": "light"
     },
     "output_type": "display_data"
    }
   ],
   "source": [
    "plt.plot(X_train.values,y_pred_baseline, color = \"orange\", label = \"Baseline Model\")\n",
    "plt.scatter(X_train,y_train)\n",
    "plt.xlabel(\"Area_[squar_meter]\")\n",
    "plt.ylabel(\"Price Usd\")\n",
    "plt.title(\"Buneous Aries price vs Area\")\n",
    "plt.legend();"
   ]
  },
  {
   "cell_type": "markdown",
   "id": "8154ef42",
   "metadata": {},
   "source": [
    "Looking at this visualization, it seems like our baseline model doesn't really follow the trend in the data. But, as a data scientist, you can't depend only on a subjective plot to evaluate a model. You need an exact, mathematically calculate <b> <b> performance metric</b> . There are lots of performance metrics, but the one we'll use here is the <b>mean absolute error.</b>"
   ]
  },
  {
   "cell_type": "markdown",
   "id": "4c2f7f44",
   "metadata": {},
   "source": [
    "<b> Task 2.1.13: Calculate the baseline mean absolute error for your predictions in y_pred_baseline as compared to the true targets in y.</b>"
   ]
  },
  {
   "cell_type": "code",
   "execution_count": 18,
   "id": "1dd39746",
   "metadata": {},
   "outputs": [
    {
     "name": "stdout",
     "output_type": "stream",
     "text": [
      "Mean apt price 135527.84\n",
      "Baseline MAE: 45199.46\n"
     ]
    }
   ],
   "source": [
    "mae_baseline = mean_absolute_error(y_train,y_pred_baseline)\n",
    "\n",
    "print(\"Mean apt price\", round(y_mean, 2))\n",
    "print(\"Baseline MAE:\", round(mae_baseline, 2))"
   ]
  },
  {
   "cell_type": "markdown",
   "id": "f060a336",
   "metadata": {},
   "source": [
    "What does this information tell us? If we always predicted that an apartment price is $135,527.84 ,our predictions would be off by an average of $45,199.46. It also tells us that our model needs to have mean absolute error below $45,199.46 in order to be useful."
   ]
  },
  {
   "cell_type": "markdown",
   "id": "c14762b9",
   "metadata": {},
   "source": [
    "## Iterate\n",
    "The next step in building a model is iterating. This involves building a model, training it, evaluating it, and then repeating the process until you're happy with the model's performance. Even though the model we're building is linear, the iteration process rarely follows a straight line. Be prepared for trying new things, hitting dead-ends, and waiting around while your computer does long computations to train your model. ☕️ Let's get started!\n",
    "\n",
    "The first thing we need to do is create our model — in this case, one that uses linear regression."
   ]
  },
  {
   "cell_type": "markdown",
   "id": "443306d0",
   "metadata": {},
   "source": [
    "<b> Task 2.1.14: Instantiate a LinearRegression model named model. </b>"
   ]
  },
  {
   "cell_type": "code",
   "execution_count": 19,
   "id": "8835d539",
   "metadata": {},
   "outputs": [],
   "source": [
    "model = LinearRegression()"
   ]
  },
  {
   "cell_type": "code",
   "execution_count": 20,
   "id": "ff9e1585",
   "metadata": {},
   "outputs": [],
   "source": [
    "# Check your work\n",
    "assert isinstance(model, LinearRegression)"
   ]
  },
  {
   "cell_type": "markdown",
   "id": "95464a18",
   "metadata": {},
   "source": [
    "The second thing we need to do is use our data to train our model. Another way to say this is fit our model to the training data."
   ]
  },
  {
   "cell_type": "markdown",
   "id": "9c182c4e",
   "metadata": {},
   "source": [
    "<b> Task 2.1.15: Fit your model to the data, X_train and y_train.</b>"
   ]
  },
  {
   "cell_type": "code",
   "execution_count": 21,
   "id": "8aa09a7e",
   "metadata": {},
   "outputs": [
    {
     "data": {
      "text/plain": [
       "LinearRegression()"
      ]
     },
     "execution_count": 21,
     "metadata": {},
     "output_type": "execute_result"
    }
   ],
   "source": [
    "model.fit(X_train,y_train)"
   ]
  },
  {
   "cell_type": "code",
   "execution_count": 22,
   "id": "2bd46f33",
   "metadata": {},
   "outputs": [],
   "source": [
    "# Check your work\n",
    "check_is_fitted(model)"
   ]
  },
  {
   "cell_type": "markdown",
   "id": "c35ad0ea",
   "metadata": {},
   "source": [
    "## Evaluate\n",
    "The final step is to evaluate our model. In order to do that, we'll start by seeing how well it performs when making predictions for data that it saw during training. So let's have it predict the price for the houses in our training set."
   ]
  },
  {
   "cell_type": "markdown",
   "id": "dadf73a0",
   "metadata": {},
   "source": [
    "<b> Task 2.1.16: Using your model's predict method, create a list of predictions for the observations in your feature matrix X_train. Name this array y_pred_training.</b>"
   ]
  },
  {
   "cell_type": "code",
   "execution_count": 23,
   "id": "3869ee27",
   "metadata": {},
   "outputs": [
    {
     "data": {
      "text/plain": [
       "array([169151.87330223, 106064.44707446, 133101.91545779, 106064.44707446,\n",
       "       124089.42599668])"
      ]
     },
     "execution_count": 23,
     "metadata": {},
     "output_type": "execute_result"
    }
   ],
   "source": [
    "y_pred_training = model.predict(X_train)\n",
    "y_pred_training[:5]"
   ]
  },
  {
   "cell_type": "code",
   "execution_count": 24,
   "id": "e0ee149a",
   "metadata": {},
   "outputs": [],
   "source": [
    "# Check your work\n",
    "assert (\n",
    "    len(y_pred_training) == 1343\n",
    "), f\"There should be 1343 predictions in `y_pred_training`, not {len(y_pred_training)}.\""
   ]
  },
  {
   "cell_type": "markdown",
   "id": "03cd2865",
   "metadata": {},
   "source": [
    "Now that we have predictions, we'll use them to assess our model's performance with the training data. We'll use the same metric we used to evaluate our baseline model: mean absolute error."
   ]
  },
  {
   "cell_type": "markdown",
   "id": "e8140bc9",
   "metadata": {},
   "source": [
    "<b> Task 2.1.17: Calculate your training mean absolute error for your predictions in y_pred_training as compared to the true targets in y_train.</b>"
   ]
  },
  {
   "cell_type": "code",
   "execution_count": 25,
   "id": "45ea1e2a",
   "metadata": {},
   "outputs": [
    {
     "name": "stdout",
     "output_type": "stream",
     "text": [
      "Training MAE: 31248.26\n"
     ]
    }
   ],
   "source": [
    "mae_training = mean_absolute_error(y_train,y_pred_training)\n",
    "print(\"Training MAE:\", round(mae_training, 2))"
   ]
  },
  {
   "cell_type": "markdown",
   "id": "4016208c",
   "metadata": {},
   "source": [
    "Good news: Our model beat the baseline by over $10,000! That's a good indicator that it will be helpful in predicting apartment prices. But the real test is how the model performs on data that it hasn't seen before, data that we call the test set. In the future, you'll create your own test set before you train your model,"
   ]
  },
  {
   "cell_type": "markdown",
   "id": "7fb5c731",
   "metadata": {},
   "source": [
    "# Warning: \n",
    "During the iteration phase, you can change and retrain your model as many times as you want. You can also check the model's training performance repeatedly. But once you evaluate its test performance, you can't make any more changes.\n",
    "\n",
    "A test only counts if neither the model nor the data scientist has seen the data before. If you check your test metrics and then make changes to the model, you can introduce biases into the model that compromise its generalizability"
   ]
  },
  {
   "cell_type": "markdown",
   "id": "a46df9cd",
   "metadata": {},
   "source": [
    "# Communicate Results\n",
    "Once your model is built and tested, it's time to share it with others. If you're presenting to simple linear model to a technical audience, they might appreciate an equation. When we created our baseline model, we represented it as a line. The equation for a line like this is usually written as:\n",
    "\n",
    "### Equation: y = m*x + b\n",
    "Since data scientists often work with more complicated linear models, they prefer to write the equation as:\n",
    "\n",
    "### Equation: y = beta 0 + beta 1 * x\n",
    "Regardless of how we write the equation, we need to find the values that our model has determined for the intercept and and coefficient. Fortunately, all trained models in scikit-learn store this information in the model itself. Let's start with the intercept."
   ]
  },
  {
   "cell_type": "markdown",
   "id": "e7420de6",
   "metadata": {},
   "source": [
    "<b> Task 2.1.19: Extract the intercept from your model, and assign it to the variable intercept.</b>"
   ]
  },
  {
   "cell_type": "code",
   "execution_count": 26,
   "id": "6f3129f9",
   "metadata": {},
   "outputs": [
    {
     "name": "stdout",
     "output_type": "stream",
     "text": [
      "Model Intercept: 11433.31\n"
     ]
    }
   ],
   "source": [
    "intercept = round(model.intercept_,2)\n",
    "print(\"Model Intercept:\", intercept)\n",
    "assert any([isinstance(intercept, int), isinstance(intercept, float)])"
   ]
  },
  {
   "cell_type": "markdown",
   "id": "72fc6c04",
   "metadata": {},
   "source": [
    "Next comes the coefficient. We'll extract it in a very similar way."
   ]
  },
  {
   "cell_type": "markdown",
   "id": "2f06525c",
   "metadata": {},
   "source": [
    "<b> Task 2.1.20: Extract the coefficient associated \"surface_covered_in_m2\" in your model, and assign it to the variable coefficient.</b>"
   ]
  },
  {
   "cell_type": "code",
   "execution_count": 27,
   "id": "e003f32c",
   "metadata": {},
   "outputs": [
    {
     "name": "stdout",
     "output_type": "stream",
     "text": [
      "Model coefficient for \"surface_covered_in_m2\": 2253.12\n"
     ]
    }
   ],
   "source": [
    "coefficient = round(model.coef_[0],2)\n",
    "print('Model coefficient for \"surface_covered_in_m2\":', coefficient)\n",
    "assert any([isinstance(coefficient, int), isinstance(coefficient, float)])"
   ]
  },
  {
   "cell_type": "markdown",
   "id": "fdf9107c",
   "metadata": {},
   "source": [
    "Now that we have our intercept and coefficient, we need to insert them into a string that we can print out the complete equation."
   ]
  },
  {
   "cell_type": "markdown",
   "id": "27446c50",
   "metadata": {},
   "source": [
    "<b> Task 2.1.21: Complete the code below and run the cell to print the equation that your model has determined for predicting apartment price based on size.</b>"
   ]
  },
  {
   "cell_type": "code",
   "execution_count": 28,
   "id": "0669d754",
   "metadata": {},
   "outputs": [
    {
     "name": "stdout",
     "output_type": "stream",
     "text": [
      "apt_price = 11433.31 + 2253.12 * surface_covered\n"
     ]
    }
   ],
   "source": [
    "print(f\"apt_price = {intercept} + {coefficient} * surface_covered\")"
   ]
  },
  {
   "cell_type": "markdown",
   "id": "c1838bb6",
   "metadata": {},
   "source": [
    "Equation might work for some technical audiences, but visualization or generally much more effective communication tool — especially for non-technical audiences. So let's use the scatter plot we made at the beginning of this lesson and plot the line that that are equation would make."
   ]
  },
  {
   "cell_type": "markdown",
   "id": "6bf638ee",
   "metadata": {},
   "source": [
    "<b> Task 2.1.22: Add a line to the plot below that shows the relationship between the observations in X_train and your model's predictions y_pred_training. Be sure that the line color is red, and that it has the label \"Linear Model\".</b>"
   ]
  },
  {
   "cell_type": "code",
   "execution_count": 29,
   "id": "103a779d",
   "metadata": {},
   "outputs": [
    {
     "data": {
      "image/png": "[encoded data removed]",
      "text/plain": [
       "<Figure size 432x288 with 1 Axes>"
      ]
     },
     "metadata": {
      "needs_background": "light"
     },
     "output_type": "display_data"
    }
   ],
   "source": [
    "plt.plot(X_train,model.predict(X_train), color = \"orange\", label = \"Baseline Model\")\n",
    "plt.scatter(X_train,y_train)\n",
    "plt.xlabel(\"Area_[squar_meter]\")\n",
    "plt.ylabel(\"Price Usd\")\n",
    "plt.title(\"Buneous Aries price vs Area\")\n",
    "plt.legend();"
   ]
  },
  {
   "cell_type": "code",
   "execution_count": 31,
   "id": "999d7ed6",
   "metadata": {},
   "outputs": [],
   "source": [
    "df.to_csv(\"buenos-aires-real-estate-11.csv\")"
   ]
  },
  {
   "cell_type": "code",
   "execution_count": 32,
   "id": "52f7a90b",
   "metadata": {},
   "outputs": [
    {
     "data": {
      "text/plain": [
       "(1343, 17)"
      ]
     },
     "execution_count": 32,
     "metadata": {},
     "output_type": "execute_result"
    }
   ],
   "source": [
    "df.shape"
   ]
  }
 ],
 "metadata": {
  "kernelspec": {
   "display_name": "Python 3",
   "language": "python",
   "name": "python3"
  },
  "language_info": {
   "codemirror_mode": {
    "name": "ipython",
    "version": 3
   },
   "file_extension": ".py",
   "mimetype": "text/x-python",
   "name": "python",
   "nbconvert_exporter": "python",
   "pygments_lexer": "ipython3",
   "version": "3.8.8"
  }
 },
 "nbformat": 4,
 "nbformat_minor": 5
}
