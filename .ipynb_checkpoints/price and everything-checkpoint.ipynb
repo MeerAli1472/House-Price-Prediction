{
 "cells": [
  {
   "cell_type": "markdown",
   "id": "9f4c1362",
   "metadata": {},
   "source": [
    "# Predicting Price with Size, Location, and Neighborhood"
   ]
  },
  {
   "cell_type": "code",
   "execution_count": 1,
   "id": "2fb47577",
   "metadata": {},
   "outputs": [],
   "source": [
    "import warnings\n",
    "from glob import glob\n",
    "\n",
    "import pandas as pd\n",
    "import seaborn as sns\n",
    "# import wqet_grader\n",
    "from category_encoders import OneHotEncoder\n",
    "# from IPython.display import VimeoVideo\n",
    "from ipywidgets import Dropdown, FloatSlider, IntSlider, interact\n",
    "from sklearn.impute import SimpleImputer\n",
    "from sklearn.linear_model import LinearRegression, Ridge  # noqa F401\n",
    "from sklearn.metrics import mean_absolute_error\n",
    "from sklearn.pipeline import make_pipeline\n",
    "from sklearn.utils.validation import check_is_fitted\n",
    "\n",
    "warnings.simplefilter(action=\"ignore\", category=FutureWarning)\n",
    "# wqet_grader.init(\"Project 2 Assessment\")"
   ]
  },
  {
   "cell_type": "markdown",
   "id": "8cd22ed0",
   "metadata": {},
   "source": [
    "In the final lesson for this project, we're going to try to use all the features in our dataset to improve our model. This means that we'll have to do a more careful cleaning of the dataset and consider some of the finer points of linear models."
   ]
  },
  {
   "cell_type": "markdown",
   "id": "85fcc406",
   "metadata": {},
   "source": [
    "# Prepare Data\n",
    "## Import"
   ]
  },
  {
   "cell_type": "code",
   "execution_count": 2,
   "id": "521d0088",
   "metadata": {},
   "outputs": [],
   "source": [
    "def wrangle(filepath):\n",
    "    # Read CSV file\n",
    "    df = pd.read_csv(filepath)\n",
    "\n",
    "    # Subset data: Apartments in \"Capital Federal\", less than 400,000\n",
    "    mask_ba = df[\"place_with_parent_names\"].str.contains(\"Capital Federal\")\n",
    "    mask_apt = df[\"property_type\"] == \"apartment\"\n",
    "    mask_price = df[\"price_aprox_usd\"] < 400_000\n",
    "    df = df[mask_ba & mask_apt & mask_price]\n",
    "\n",
    "    # Subset data: Remove outliers for \"surface_covered_in_m2\"\n",
    "    low, high = df[\"surface_covered_in_m2\"].quantile([0.1, 0.9])\n",
    "    mask_area = df[\"surface_covered_in_m2\"].between(low, high)\n",
    "    df = df[mask_area]\n",
    "\n",
    "    # Split \"lat-lon\" column\n",
    "    df[[\"lat\", \"lon\"]] = df[\"lat-lon\"].str.split(\",\", expand=True).astype(float)\n",
    "    df.drop(columns=\"lat-lon\", inplace=True)\n",
    "\n",
    "    # Get place name\n",
    "    df[\"neighborhood\"] = df[\"place_with_parent_names\"].str.split(\"|\", expand=True)[3]\n",
    "    df.drop(columns=\"place_with_parent_names\", inplace=True)\n",
    "    \n",
    "    # dropping columns\n",
    "    df.drop(columns = [\"floor\", \"expenses\"] , inplace = True)\n",
    "    \n",
    "    #dropping low and high cardanality categorical columns\n",
    "    df.drop(columns = [\"operation\",\"property_type\",\"currency\",\"properati_url\"], inplace =True)\n",
    "    \n",
    "    # dropping leakage columns\n",
    "    df.drop(columns=[\n",
    "        'price',\n",
    "         'price_aprox_local_currency',\n",
    "         'price_per_m2',\n",
    "         'price_usd_per_m2'\n",
    "        \n",
    "    ],inplace =True)\n",
    "\n",
    "    \n",
    "    #dropping multicollinearity\n",
    "    df.drop(columns=[\"surface_total_in_m2\",\"rooms\",\"Unnamed: 0\"],inplace=True)\n",
    "    \n",
    "    return df"
   ]
  },
  {
   "cell_type": "markdown",
   "id": "ae01ba2c",
   "metadata": {},
   "source": [
    "<b> Task 2.4.1: Use glob to create a list that contains the filenames for all the Buenos Aires real estate CSV files in the data directory. Assign this list to the variable name files.</b>"
   ]
  },
  {
   "cell_type": "code",
   "execution_count": 3,
   "id": "98216043",
   "metadata": {},
   "outputs": [
    {
     "data": {
      "text/plain": [
       "['C:\\\\Users\\\\MEER\\\\Desktop\\\\applied datascience course\\\\project 2 house price prediction\\\\buenos-aires-real-estate-1.csv',\n",
       " 'C:\\\\Users\\\\MEER\\\\Desktop\\\\applied datascience course\\\\project 2 house price prediction\\\\buenos-aires-real-estate-2.csv',\n",
       " 'C:\\\\Users\\\\MEER\\\\Desktop\\\\applied datascience course\\\\project 2 house price prediction\\\\buenos-aires-real-estate-3.csv',\n",
       " 'C:\\\\Users\\\\MEER\\\\Desktop\\\\applied datascience course\\\\project 2 house price prediction\\\\buenos-aires-real-estate-4.csv',\n",
       " 'C:\\\\Users\\\\MEER\\\\Desktop\\\\applied datascience course\\\\project 2 house price prediction\\\\buenos-aires-real-estate-5.csv']"
      ]
     },
     "execution_count": 3,
     "metadata": {},
     "output_type": "execute_result"
    }
   ],
   "source": [
    "files = glob(r\"C:\\Users\\MEER\\Desktop\\applied datascience course\\project 2 house price prediction\\buenos-aires-real-estate-*.csv\")\n",
    "files"
   ]
  },
  {
   "cell_type": "code",
   "execution_count": 4,
   "id": "f7c9ffde",
   "metadata": {},
   "outputs": [],
   "source": [
    "# Check your work\n",
    "assert len(files) == 5, f\"`files` should contain 5 items, not {len(files)}\""
   ]
  },
  {
   "cell_type": "markdown",
   "id": "858801df",
   "metadata": {},
   "source": [
    "The last time we put all our DataFrames into a list, we used a for loop. This time, we're going to use a more compact coding technique called a list comprehension"
   ]
  },
  {
   "cell_type": "markdown",
   "id": "4129e754",
   "metadata": {},
   "source": [
    "<b> Task 2.4.2: Use your wrangle function in a list comprehension to create a list named frames. The list should contain the cleaned DataFrames for the filenames your collected in files.</b>"
   ]
  },
  {
   "cell_type": "code",
   "execution_count": 5,
   "id": "cbc9ed56",
   "metadata": {},
   "outputs": [
    {
     "data": {
      "text/plain": [
       "5"
      ]
     },
     "execution_count": 5,
     "metadata": {},
     "output_type": "execute_result"
    }
   ],
   "source": [
    "frames = [wrangle(file) for file in files]\n",
    "len(frames)"
   ]
  },
  {
   "cell_type": "code",
   "execution_count": 6,
   "id": "61e930b1",
   "metadata": {},
   "outputs": [],
   "source": [
    "# Check your work\n",
    "assert len(frames) == 5, f\"`frames` should contain 5 items, not {len(frames)}\"\n",
    "assert all(\n",
    "    [isinstance(frame, pd.DataFrame) for frame in frames]\n",
    "), \"The items in `frames` should all be DataFrames.\""
   ]
  },
  {
   "cell_type": "markdown",
   "id": "7c106729",
   "metadata": {},
   "source": [
    "Last step: Combine the DataFrames in frames into a single df."
   ]
  },
  {
   "cell_type": "markdown",
   "id": "771ac551",
   "metadata": {},
   "source": [
    "<b> Task 2.3.3: Use pd.concat to concatenate the items in frames into a single DataFrame df. Make sure you set the ignore_index argument to True.</b>"
   ]
  },
  {
   "cell_type": "code",
   "execution_count": 7,
   "id": "e44ccbb4",
   "metadata": {},
   "outputs": [
    {
     "data": {
      "text/plain": [
       "(6608, 5)"
      ]
     },
     "execution_count": 7,
     "metadata": {},
     "output_type": "execute_result"
    }
   ],
   "source": [
    "df = pd.concat(frames, ignore_index=True)\n",
    "df.shape"
   ]
  },
  {
   "cell_type": "markdown",
   "id": "f692683f",
   "metadata": {},
   "source": [
    "# Explore\n",
    "The first thing we need to consider when trying to use all the features `df` is **missing values**. While it's true you can impute missing values, there still needs to be enough data in a column to do a good imputation. A general rule is that, if more than half of the data in a column is missing, it's better to drop it then try imputing.\n",
    "\n",
    "Take a look at the output from `df.info()` above. Are there columns where more than half of the values are `NaN`? If so, those columns need to go! "
   ]
  },
  {
   "cell_type": "markdown",
   "id": "ec95e426",
   "metadata": {},
   "source": [
    "<b> Task 2.4.4: Modify your wrangle function to drop any columns that are more than half NaN values. Be sure to rerun all the cells above before you continue.</b>"
   ]
  },
  {
   "cell_type": "markdown",
   "id": "1818d9d1",
   "metadata": {},
   "source": [
    "# here we can see that some colums have more than 50 null values we have to drop it"
   ]
  },
  {
   "cell_type": "code",
   "execution_count": 8,
   "id": "f8189e3d",
   "metadata": {
    "scrolled": true
   },
   "outputs": [
    {
     "data": {
      "text/plain": [
       "price_aprox_usd          0.000000\n",
       "surface_covered_in_m2    0.000000\n",
       "lat                      0.041616\n",
       "lon                      0.041616\n",
       "neighborhood             0.000000\n",
       "dtype: float64"
      ]
     },
     "execution_count": 8,
     "metadata": {},
     "output_type": "execute_result"
    }
   ],
   "source": [
    "df.isnull().sum() / len(df)"
   ]
  },
  {
   "cell_type": "markdown",
   "id": "7f2f32a0",
   "metadata": {},
   "source": [
    "The next thing we need to look out for are categorical columns with low or high cardinality. If there's only one category in a column, it won't provide any unique information to our model. At the other extreme, columns where nearly every row has its own category won't help our model in identifying useful trends in the data.\n",
    "\n",
    "Let's take a look at the cardinality of our features."
   ]
  },
  {
   "cell_type": "markdown",
   "id": "53030ae2",
   "metadata": {},
   "source": [
    "<b> Task 2.4.5: Calculate the number of unique values for each non-numeric feature in df.</b>"
   ]
  },
  {
   "cell_type": "code",
   "execution_count": 9,
   "id": "baebaa29",
   "metadata": {},
   "outputs": [
    {
     "data": {
      "text/html": [
       "<div>\n",
       "<style scoped>\n",
       "    .dataframe tbody tr th:only-of-type {\n",
       "        vertical-align: middle;\n",
       "    }\n",
       "\n",
       "    .dataframe tbody tr th {\n",
       "        vertical-align: top;\n",
       "    }\n",
       "\n",
       "    .dataframe thead th {\n",
       "        text-align: right;\n",
       "    }\n",
       "</style>\n",
       "<table border=\"1\" class=\"dataframe\">\n",
       "  <thead>\n",
       "    <tr style=\"text-align: right;\">\n",
       "      <th></th>\n",
       "      <th>neighborhood</th>\n",
       "    </tr>\n",
       "  </thead>\n",
       "  <tbody>\n",
       "    <tr>\n",
       "      <th>0</th>\n",
       "      <td>Chacarita</td>\n",
       "    </tr>\n",
       "    <tr>\n",
       "      <th>1</th>\n",
       "      <td>Villa Luro</td>\n",
       "    </tr>\n",
       "    <tr>\n",
       "      <th>2</th>\n",
       "      <td>Caballito</td>\n",
       "    </tr>\n",
       "    <tr>\n",
       "      <th>3</th>\n",
       "      <td>Constituci�n</td>\n",
       "    </tr>\n",
       "    <tr>\n",
       "      <th>4</th>\n",
       "      <td>Once</td>\n",
       "    </tr>\n",
       "  </tbody>\n",
       "</table>\n",
       "</div>"
      ],
      "text/plain": [
       "   neighborhood\n",
       "0     Chacarita\n",
       "1    Villa Luro\n",
       "2     Caballito\n",
       "3  Constituci�n\n",
       "4          Once"
      ]
     },
     "execution_count": 9,
     "metadata": {},
     "output_type": "execute_result"
    }
   ],
   "source": [
    "df.select_dtypes(\"object\").head()"
   ]
  },
  {
   "cell_type": "markdown",
   "id": "55671a83",
   "metadata": {},
   "source": [
    "so there are many features with low and high cardanality which is useless for our model because. we have to drop it,\n",
    "Here, we can see that columns like \"operation\" have only one value in them, while every row in \"properati_url\" has a unique value. These are clear examples of high- and low-cardinality features that we shouldn't include in our model."
   ]
  },
  {
   "cell_type": "code",
   "execution_count": 10,
   "id": "f49d6887",
   "metadata": {},
   "outputs": [
    {
     "data": {
      "text/plain": [
       "neighborhood    55\n",
       "dtype: int64"
      ]
     },
     "execution_count": 10,
     "metadata": {},
     "output_type": "execute_result"
    }
   ],
   "source": [
    "df.select_dtypes(\"object\").nunique()"
   ]
  },
  {
   "cell_type": "markdown",
   "id": "fe4da539",
   "metadata": {},
   "source": [
    "It's also important for us to drop any columns that would constitute leakage, that is, features that were created using our target or that would give our model information that it won't have access to when it's deployed."
   ]
  },
  {
   "cell_type": "markdown",
   "id": "d5f51167",
   "metadata": {},
   "source": [
    "<b> Task 2.4.7: Modify your wrangle function to drop any features that would constitute leakage.</b>"
   ]
  },
  {
   "cell_type": "markdown",
   "id": "7684f695",
   "metadata": {},
   "source": [
    "Finally, the last issue we need to keep an eye out for is multicollinearity, that is, features in our feature matrix that are highly correlated with each other. A good way to detect this is to use a heatmap. Let's make one!"
   ]
  },
  {
   "cell_type": "markdown",
   "id": "0a6f38a6",
   "metadata": {},
   "source": [
    "<b>Task 2.4.8: Plot a correlation heatmap of the remaining numerical features in df. Since \"price_aprox_usd\" will be your target, you don't need to include it in your heatmap.</b>"
   ]
  },
  {
   "cell_type": "code",
   "execution_count": 11,
   "id": "d8fc5de5",
   "metadata": {},
   "outputs": [
    {
     "data": {
      "text/html": [
       "<div>\n",
       "<style scoped>\n",
       "    .dataframe tbody tr th:only-of-type {\n",
       "        vertical-align: middle;\n",
       "    }\n",
       "\n",
       "    .dataframe tbody tr th {\n",
       "        vertical-align: top;\n",
       "    }\n",
       "\n",
       "    .dataframe thead th {\n",
       "        text-align: right;\n",
       "    }\n",
       "</style>\n",
       "<table border=\"1\" class=\"dataframe\">\n",
       "  <thead>\n",
       "    <tr style=\"text-align: right;\">\n",
       "      <th></th>\n",
       "      <th>surface_covered_in_m2</th>\n",
       "      <th>lat</th>\n",
       "      <th>lon</th>\n",
       "    </tr>\n",
       "  </thead>\n",
       "  <tbody>\n",
       "    <tr>\n",
       "      <th>surface_covered_in_m2</th>\n",
       "      <td>1.000000</td>\n",
       "      <td>0.034634</td>\n",
       "      <td>0.031556</td>\n",
       "    </tr>\n",
       "    <tr>\n",
       "      <th>lat</th>\n",
       "      <td>0.034634</td>\n",
       "      <td>1.000000</td>\n",
       "      <td>-0.258657</td>\n",
       "    </tr>\n",
       "    <tr>\n",
       "      <th>lon</th>\n",
       "      <td>0.031556</td>\n",
       "      <td>-0.258657</td>\n",
       "      <td>1.000000</td>\n",
       "    </tr>\n",
       "  </tbody>\n",
       "</table>\n",
       "</div>"
      ],
      "text/plain": [
       "                       surface_covered_in_m2       lat       lon\n",
       "surface_covered_in_m2               1.000000  0.034634  0.031556\n",
       "lat                                 0.034634  1.000000 -0.258657\n",
       "lon                                 0.031556 -0.258657  1.000000"
      ]
     },
     "execution_count": 11,
     "metadata": {},
     "output_type": "execute_result"
    }
   ],
   "source": [
    "df.select_dtypes(\"number\").drop(columns=\"price_aprox_usd\").corr()"
   ]
  },
  {
   "cell_type": "code",
   "execution_count": 12,
   "id": "61bb798f",
   "metadata": {},
   "outputs": [
    {
     "data": {
      "image/png": "[encoded data removed]",
      "text/plain": [
       "<Figure size 432x288 with 2 Axes>"
      ]
     },
     "metadata": {
      "needs_background": "light"
     },
     "output_type": "display_data"
    }
   ],
   "source": [
    "corr = sns.heatmap(df.select_dtypes(\"number\").drop(columns=\"price_aprox_usd\").corr())"
   ]
  },
  {
   "cell_type": "code",
   "execution_count": 13,
   "id": "1414f9f4",
   "metadata": {},
   "outputs": [
    {
     "data": {
      "text/html": [
       "<div>\n",
       "<style scoped>\n",
       "    .dataframe tbody tr th:only-of-type {\n",
       "        vertical-align: middle;\n",
       "    }\n",
       "\n",
       "    .dataframe tbody tr th {\n",
       "        vertical-align: top;\n",
       "    }\n",
       "\n",
       "    .dataframe thead th {\n",
       "        text-align: right;\n",
       "    }\n",
       "</style>\n",
       "<table border=\"1\" class=\"dataframe\">\n",
       "  <thead>\n",
       "    <tr style=\"text-align: right;\">\n",
       "      <th></th>\n",
       "      <th>price_aprox_usd</th>\n",
       "      <th>surface_covered_in_m2</th>\n",
       "      <th>lat</th>\n",
       "      <th>lon</th>\n",
       "      <th>neighborhood</th>\n",
       "    </tr>\n",
       "  </thead>\n",
       "  <tbody>\n",
       "    <tr>\n",
       "      <th>0</th>\n",
       "      <td>129000.0</td>\n",
       "      <td>70.0</td>\n",
       "      <td>-34.584651</td>\n",
       "      <td>-58.454693</td>\n",
       "      <td>Chacarita</td>\n",
       "    </tr>\n",
       "    <tr>\n",
       "      <th>1</th>\n",
       "      <td>87000.0</td>\n",
       "      <td>42.0</td>\n",
       "      <td>-34.638979</td>\n",
       "      <td>-58.500115</td>\n",
       "      <td>Villa Luro</td>\n",
       "    </tr>\n",
       "    <tr>\n",
       "      <th>2</th>\n",
       "      <td>118000.0</td>\n",
       "      <td>54.0</td>\n",
       "      <td>-34.615847</td>\n",
       "      <td>-58.459957</td>\n",
       "      <td>Caballito</td>\n",
       "    </tr>\n",
       "    <tr>\n",
       "      <th>3</th>\n",
       "      <td>57000.0</td>\n",
       "      <td>42.0</td>\n",
       "      <td>-34.625222</td>\n",
       "      <td>-58.382382</td>\n",
       "      <td>Constituci�n</td>\n",
       "    </tr>\n",
       "    <tr>\n",
       "      <th>4</th>\n",
       "      <td>90000.0</td>\n",
       "      <td>50.0</td>\n",
       "      <td>-34.610610</td>\n",
       "      <td>-58.412511</td>\n",
       "      <td>Once</td>\n",
       "    </tr>\n",
       "  </tbody>\n",
       "</table>\n",
       "</div>"
      ],
      "text/plain": [
       "   price_aprox_usd  surface_covered_in_m2        lat        lon  neighborhood\n",
       "0         129000.0                   70.0 -34.584651 -58.454693     Chacarita\n",
       "1          87000.0                   42.0 -34.638979 -58.500115    Villa Luro\n",
       "2         118000.0                   54.0 -34.615847 -58.459957     Caballito\n",
       "3          57000.0                   42.0 -34.625222 -58.382382  Constituci�n\n",
       "4          90000.0                   50.0 -34.610610 -58.412511          Once"
      ]
     },
     "execution_count": 13,
     "metadata": {},
     "output_type": "execute_result"
    }
   ],
   "source": [
    "df.head()"
   ]
  },
  {
   "cell_type": "markdown",
   "id": "6292eb5d",
   "metadata": {},
   "source": [
    "# Split Data\n",
    "###### Task 2.4.10: Create your feature matrix X_train and target vector y_train. Your target is \"price_aprox_usd\". Your features should be all the columns that remain in the DataFrame you cleaned above."
   ]
  },
  {
   "cell_type": "code",
   "execution_count": 14,
   "id": "c9e0dfaf",
   "metadata": {},
   "outputs": [],
   "source": [
    "target = \"price_aprox_usd\"\n",
    "features = [\"surface_covered_in_m2\",\"lat\",\"lon\",\"neighborhood\"]\n",
    "\n",
    "y_train = df[target]\n",
    "X_train = df[features]"
   ]
  },
  {
   "cell_type": "markdown",
   "id": "a3fee8da",
   "metadata": {},
   "source": [
    "# Build Model\n",
    "## Baseline"
   ]
  },
  {
   "cell_type": "markdown",
   "id": "e0274cf1",
   "metadata": {},
   "source": [
    "<b>Task 2.4.11: Calculate the baseline mean absolute error for your model.</b>"
   ]
  },
  {
   "cell_type": "code",
   "execution_count": 15,
   "id": "1a993986",
   "metadata": {},
   "outputs": [
    {
     "name": "stdout",
     "output_type": "stream",
     "text": [
      "Mean apt price: 133180.0\n",
      "Baseline MAE: 45580.181769041206\n"
     ]
    }
   ],
   "source": [
    "y_mean = y_train.mean()\n",
    "y_pred_baseline = [y_mean] * len(y_train)\n",
    "print(\"Mean apt price:\", round(y_mean,2))\n",
    "\n",
    "print(\"Baseline MAE:\", mean_absolute_error(y_train,y_pred_baseline))"
   ]
  },
  {
   "cell_type": "markdown",
   "id": "06e6d9b5",
   "metadata": {},
   "source": [
    "# Iterate\n",
    "Task 2.4.12: Create a pipeline named model that contains a OneHotEncoder, SimpleImputer, and Ridge predictor."
   ]
  },
  {
   "cell_type": "code",
   "execution_count": 16,
   "id": "3b3ee377",
   "metadata": {},
   "outputs": [
    {
     "name": "stdout",
     "output_type": "stream",
     "text": [
      "(6608, 58)\n"
     ]
    },
    {
     "data": {
      "text/html": [
       "<div>\n",
       "<style scoped>\n",
       "    .dataframe tbody tr th:only-of-type {\n",
       "        vertical-align: middle;\n",
       "    }\n",
       "\n",
       "    .dataframe tbody tr th {\n",
       "        vertical-align: top;\n",
       "    }\n",
       "\n",
       "    .dataframe thead th {\n",
       "        text-align: right;\n",
       "    }\n",
       "</style>\n",
       "<table border=\"1\" class=\"dataframe\">\n",
       "  <thead>\n",
       "    <tr style=\"text-align: right;\">\n",
       "      <th></th>\n",
       "      <th>surface_covered_in_m2</th>\n",
       "      <th>lat</th>\n",
       "      <th>lon</th>\n",
       "      <th>neighborhood_Chacarita</th>\n",
       "      <th>neighborhood_Villa Luro</th>\n",
       "      <th>neighborhood_Caballito</th>\n",
       "      <th>neighborhood_Constituci�n</th>\n",
       "      <th>neighborhood_Once</th>\n",
       "      <th>neighborhood_Almagro</th>\n",
       "      <th>neighborhood_Palermo</th>\n",
       "      <th>...</th>\n",
       "      <th>neighborhood_Versalles</th>\n",
       "      <th>neighborhood_Boca</th>\n",
       "      <th>neighborhood_Puerto Madero</th>\n",
       "      <th>neighborhood_Agronom�a</th>\n",
       "      <th>neighborhood_Monte Castro</th>\n",
       "      <th>neighborhood_Tribunales</th>\n",
       "      <th>neighborhood_Villa Santa Rita</th>\n",
       "      <th>neighborhood_Velez Sarsfield</th>\n",
       "      <th>neighborhood_Villa Soldati</th>\n",
       "      <th>neighborhood_Pompeya</th>\n",
       "    </tr>\n",
       "  </thead>\n",
       "  <tbody>\n",
       "    <tr>\n",
       "      <th>0</th>\n",
       "      <td>70.0</td>\n",
       "      <td>-34.584651</td>\n",
       "      <td>-58.454693</td>\n",
       "      <td>1</td>\n",
       "      <td>0</td>\n",
       "      <td>0</td>\n",
       "      <td>0</td>\n",
       "      <td>0</td>\n",
       "      <td>0</td>\n",
       "      <td>0</td>\n",
       "      <td>...</td>\n",
       "      <td>0</td>\n",
       "      <td>0</td>\n",
       "      <td>0</td>\n",
       "      <td>0</td>\n",
       "      <td>0</td>\n",
       "      <td>0</td>\n",
       "      <td>0</td>\n",
       "      <td>0</td>\n",
       "      <td>0</td>\n",
       "      <td>0</td>\n",
       "    </tr>\n",
       "    <tr>\n",
       "      <th>1</th>\n",
       "      <td>42.0</td>\n",
       "      <td>-34.638979</td>\n",
       "      <td>-58.500115</td>\n",
       "      <td>0</td>\n",
       "      <td>1</td>\n",
       "      <td>0</td>\n",
       "      <td>0</td>\n",
       "      <td>0</td>\n",
       "      <td>0</td>\n",
       "      <td>0</td>\n",
       "      <td>...</td>\n",
       "      <td>0</td>\n",
       "      <td>0</td>\n",
       "      <td>0</td>\n",
       "      <td>0</td>\n",
       "      <td>0</td>\n",
       "      <td>0</td>\n",
       "      <td>0</td>\n",
       "      <td>0</td>\n",
       "      <td>0</td>\n",
       "      <td>0</td>\n",
       "    </tr>\n",
       "    <tr>\n",
       "      <th>2</th>\n",
       "      <td>54.0</td>\n",
       "      <td>-34.615847</td>\n",
       "      <td>-58.459957</td>\n",
       "      <td>0</td>\n",
       "      <td>0</td>\n",
       "      <td>1</td>\n",
       "      <td>0</td>\n",
       "      <td>0</td>\n",
       "      <td>0</td>\n",
       "      <td>0</td>\n",
       "      <td>...</td>\n",
       "      <td>0</td>\n",
       "      <td>0</td>\n",
       "      <td>0</td>\n",
       "      <td>0</td>\n",
       "      <td>0</td>\n",
       "      <td>0</td>\n",
       "      <td>0</td>\n",
       "      <td>0</td>\n",
       "      <td>0</td>\n",
       "      <td>0</td>\n",
       "    </tr>\n",
       "    <tr>\n",
       "      <th>3</th>\n",
       "      <td>42.0</td>\n",
       "      <td>-34.625222</td>\n",
       "      <td>-58.382382</td>\n",
       "      <td>0</td>\n",
       "      <td>0</td>\n",
       "      <td>0</td>\n",
       "      <td>1</td>\n",
       "      <td>0</td>\n",
       "      <td>0</td>\n",
       "      <td>0</td>\n",
       "      <td>...</td>\n",
       "      <td>0</td>\n",
       "      <td>0</td>\n",
       "      <td>0</td>\n",
       "      <td>0</td>\n",
       "      <td>0</td>\n",
       "      <td>0</td>\n",
       "      <td>0</td>\n",
       "      <td>0</td>\n",
       "      <td>0</td>\n",
       "      <td>0</td>\n",
       "    </tr>\n",
       "    <tr>\n",
       "      <th>4</th>\n",
       "      <td>50.0</td>\n",
       "      <td>-34.610610</td>\n",
       "      <td>-58.412511</td>\n",
       "      <td>0</td>\n",
       "      <td>0</td>\n",
       "      <td>0</td>\n",
       "      <td>0</td>\n",
       "      <td>1</td>\n",
       "      <td>0</td>\n",
       "      <td>0</td>\n",
       "      <td>...</td>\n",
       "      <td>0</td>\n",
       "      <td>0</td>\n",
       "      <td>0</td>\n",
       "      <td>0</td>\n",
       "      <td>0</td>\n",
       "      <td>0</td>\n",
       "      <td>0</td>\n",
       "      <td>0</td>\n",
       "      <td>0</td>\n",
       "      <td>0</td>\n",
       "    </tr>\n",
       "  </tbody>\n",
       "</table>\n",
       "<p>5 rows × 58 columns</p>\n",
       "</div>"
      ],
      "text/plain": [
       "   surface_covered_in_m2        lat        lon  neighborhood_Chacarita  \\\n",
       "0                   70.0 -34.584651 -58.454693                       1   \n",
       "1                   42.0 -34.638979 -58.500115                       0   \n",
       "2                   54.0 -34.615847 -58.459957                       0   \n",
       "3                   42.0 -34.625222 -58.382382                       0   \n",
       "4                   50.0 -34.610610 -58.412511                       0   \n",
       "\n",
       "   neighborhood_Villa Luro  neighborhood_Caballito  neighborhood_Constituci�n  \\\n",
       "0                        0                       0                          0   \n",
       "1                        1                       0                          0   \n",
       "2                        0                       1                          0   \n",
       "3                        0                       0                          1   \n",
       "4                        0                       0                          0   \n",
       "\n",
       "   neighborhood_Once  neighborhood_Almagro  neighborhood_Palermo  ...  \\\n",
       "0                  0                     0                     0  ...   \n",
       "1                  0                     0                     0  ...   \n",
       "2                  0                     0                     0  ...   \n",
       "3                  0                     0                     0  ...   \n",
       "4                  1                     0                     0  ...   \n",
       "\n",
       "   neighborhood_Versalles  neighborhood_Boca  neighborhood_Puerto Madero  \\\n",
       "0                       0                  0                           0   \n",
       "1                       0                  0                           0   \n",
       "2                       0                  0                           0   \n",
       "3                       0                  0                           0   \n",
       "4                       0                  0                           0   \n",
       "\n",
       "   neighborhood_Agronom�a  neighborhood_Monte Castro  neighborhood_Tribunales  \\\n",
       "0                       0                          0                        0   \n",
       "1                       0                          0                        0   \n",
       "2                       0                          0                        0   \n",
       "3                       0                          0                        0   \n",
       "4                       0                          0                        0   \n",
       "\n",
       "   neighborhood_Villa Santa Rita  neighborhood_Velez Sarsfield  \\\n",
       "0                              0                             0   \n",
       "1                              0                             0   \n",
       "2                              0                             0   \n",
       "3                              0                             0   \n",
       "4                              0                             0   \n",
       "\n",
       "   neighborhood_Villa Soldati  neighborhood_Pompeya  \n",
       "0                           0                     0  \n",
       "1                           0                     0  \n",
       "2                           0                     0  \n",
       "3                           0                     0  \n",
       "4                           0                     0  \n",
       "\n",
       "[5 rows x 58 columns]"
      ]
     },
     "execution_count": 16,
     "metadata": {},
     "output_type": "execute_result"
    }
   ],
   "source": [
    "#instantiate\n",
    "ohe = OneHotEncoder(use_cat_names=True)\n",
    "# Fit\n",
    "ohe.fit(X_train)\n",
    "#Transform\n",
    "XT_train = ohe.transform(X_train)\n",
    "print(XT_train.shape)\n",
    "XT_train.head()"
   ]
  },
  {
   "cell_type": "code",
   "execution_count": 17,
   "id": "f822c9a3",
   "metadata": {},
   "outputs": [],
   "source": [
    "imputer = SimpleImputer()"
   ]
  },
  {
   "cell_type": "code",
   "execution_count": 18,
   "id": "4f3c0a6f",
   "metadata": {},
   "outputs": [
    {
     "data": {
      "text/plain": [
       "SimpleImputer()"
      ]
     },
     "execution_count": 18,
     "metadata": {},
     "output_type": "execute_result"
    }
   ],
   "source": [
    "imputer.fit(XT_train)"
   ]
  },
  {
   "cell_type": "code",
   "execution_count": null,
   "id": "d1c93212",
   "metadata": {},
   "outputs": [],
   "source": []
  },
  {
   "cell_type": "code",
   "execution_count": 19,
   "id": "106cfe51",
   "metadata": {},
   "outputs": [],
   "source": [
    "# Check your work\n",
    "check_is_fitted(imputer)"
   ]
  },
  {
   "cell_type": "code",
   "execution_count": 20,
   "id": "94dc23e5",
   "metadata": {},
   "outputs": [],
   "source": [
    "XTT_train = imputer.transform(XT_train)\n",
    "# pd.DataFrame(XT_train, columns=X_train.columns).info()"
   ]
  },
  {
   "cell_type": "code",
   "execution_count": 21,
   "id": "117d6fd5",
   "metadata": {},
   "outputs": [
    {
     "data": {
      "text/html": [
       "<div>\n",
       "<style scoped>\n",
       "    .dataframe tbody tr th:only-of-type {\n",
       "        vertical-align: middle;\n",
       "    }\n",
       "\n",
       "    .dataframe tbody tr th {\n",
       "        vertical-align: top;\n",
       "    }\n",
       "\n",
       "    .dataframe thead th {\n",
       "        text-align: right;\n",
       "    }\n",
       "</style>\n",
       "<table border=\"1\" class=\"dataframe\">\n",
       "  <thead>\n",
       "    <tr style=\"text-align: right;\">\n",
       "      <th></th>\n",
       "      <th>surface_covered_in_m2</th>\n",
       "      <th>lat</th>\n",
       "      <th>lon</th>\n",
       "      <th>neighborhood_Chacarita</th>\n",
       "      <th>neighborhood_Villa Luro</th>\n",
       "      <th>neighborhood_Caballito</th>\n",
       "      <th>neighborhood_Constituci�n</th>\n",
       "      <th>neighborhood_Once</th>\n",
       "      <th>neighborhood_Almagro</th>\n",
       "      <th>neighborhood_Palermo</th>\n",
       "      <th>...</th>\n",
       "      <th>neighborhood_Versalles</th>\n",
       "      <th>neighborhood_Boca</th>\n",
       "      <th>neighborhood_Puerto Madero</th>\n",
       "      <th>neighborhood_Agronom�a</th>\n",
       "      <th>neighborhood_Monte Castro</th>\n",
       "      <th>neighborhood_Tribunales</th>\n",
       "      <th>neighborhood_Villa Santa Rita</th>\n",
       "      <th>neighborhood_Velez Sarsfield</th>\n",
       "      <th>neighborhood_Villa Soldati</th>\n",
       "      <th>neighborhood_Pompeya</th>\n",
       "    </tr>\n",
       "  </thead>\n",
       "  <tbody>\n",
       "    <tr>\n",
       "      <th>0</th>\n",
       "      <td>70.0</td>\n",
       "      <td>-34.584651</td>\n",
       "      <td>-58.454693</td>\n",
       "      <td>1.0</td>\n",
       "      <td>0.0</td>\n",
       "      <td>0.0</td>\n",
       "      <td>0.0</td>\n",
       "      <td>0.0</td>\n",
       "      <td>0.0</td>\n",
       "      <td>0.0</td>\n",
       "      <td>...</td>\n",
       "      <td>0.0</td>\n",
       "      <td>0.0</td>\n",
       "      <td>0.0</td>\n",
       "      <td>0.0</td>\n",
       "      <td>0.0</td>\n",
       "      <td>0.0</td>\n",
       "      <td>0.0</td>\n",
       "      <td>0.0</td>\n",
       "      <td>0.0</td>\n",
       "      <td>0.0</td>\n",
       "    </tr>\n",
       "    <tr>\n",
       "      <th>1</th>\n",
       "      <td>42.0</td>\n",
       "      <td>-34.638979</td>\n",
       "      <td>-58.500115</td>\n",
       "      <td>0.0</td>\n",
       "      <td>1.0</td>\n",
       "      <td>0.0</td>\n",
       "      <td>0.0</td>\n",
       "      <td>0.0</td>\n",
       "      <td>0.0</td>\n",
       "      <td>0.0</td>\n",
       "      <td>...</td>\n",
       "      <td>0.0</td>\n",
       "      <td>0.0</td>\n",
       "      <td>0.0</td>\n",
       "      <td>0.0</td>\n",
       "      <td>0.0</td>\n",
       "      <td>0.0</td>\n",
       "      <td>0.0</td>\n",
       "      <td>0.0</td>\n",
       "      <td>0.0</td>\n",
       "      <td>0.0</td>\n",
       "    </tr>\n",
       "    <tr>\n",
       "      <th>2</th>\n",
       "      <td>54.0</td>\n",
       "      <td>-34.615847</td>\n",
       "      <td>-58.459957</td>\n",
       "      <td>0.0</td>\n",
       "      <td>0.0</td>\n",
       "      <td>1.0</td>\n",
       "      <td>0.0</td>\n",
       "      <td>0.0</td>\n",
       "      <td>0.0</td>\n",
       "      <td>0.0</td>\n",
       "      <td>...</td>\n",
       "      <td>0.0</td>\n",
       "      <td>0.0</td>\n",
       "      <td>0.0</td>\n",
       "      <td>0.0</td>\n",
       "      <td>0.0</td>\n",
       "      <td>0.0</td>\n",
       "      <td>0.0</td>\n",
       "      <td>0.0</td>\n",
       "      <td>0.0</td>\n",
       "      <td>0.0</td>\n",
       "    </tr>\n",
       "    <tr>\n",
       "      <th>3</th>\n",
       "      <td>42.0</td>\n",
       "      <td>-34.625222</td>\n",
       "      <td>-58.382382</td>\n",
       "      <td>0.0</td>\n",
       "      <td>0.0</td>\n",
       "      <td>0.0</td>\n",
       "      <td>1.0</td>\n",
       "      <td>0.0</td>\n",
       "      <td>0.0</td>\n",
       "      <td>0.0</td>\n",
       "      <td>...</td>\n",
       "      <td>0.0</td>\n",
       "      <td>0.0</td>\n",
       "      <td>0.0</td>\n",
       "      <td>0.0</td>\n",
       "      <td>0.0</td>\n",
       "      <td>0.0</td>\n",
       "      <td>0.0</td>\n",
       "      <td>0.0</td>\n",
       "      <td>0.0</td>\n",
       "      <td>0.0</td>\n",
       "    </tr>\n",
       "    <tr>\n",
       "      <th>4</th>\n",
       "      <td>50.0</td>\n",
       "      <td>-34.610610</td>\n",
       "      <td>-58.412511</td>\n",
       "      <td>0.0</td>\n",
       "      <td>0.0</td>\n",
       "      <td>0.0</td>\n",
       "      <td>0.0</td>\n",
       "      <td>1.0</td>\n",
       "      <td>0.0</td>\n",
       "      <td>0.0</td>\n",
       "      <td>...</td>\n",
       "      <td>0.0</td>\n",
       "      <td>0.0</td>\n",
       "      <td>0.0</td>\n",
       "      <td>0.0</td>\n",
       "      <td>0.0</td>\n",
       "      <td>0.0</td>\n",
       "      <td>0.0</td>\n",
       "      <td>0.0</td>\n",
       "      <td>0.0</td>\n",
       "      <td>0.0</td>\n",
       "    </tr>\n",
       "    <tr>\n",
       "      <th>...</th>\n",
       "      <td>...</td>\n",
       "      <td>...</td>\n",
       "      <td>...</td>\n",
       "      <td>...</td>\n",
       "      <td>...</td>\n",
       "      <td>...</td>\n",
       "      <td>...</td>\n",
       "      <td>...</td>\n",
       "      <td>...</td>\n",
       "      <td>...</td>\n",
       "      <td>...</td>\n",
       "      <td>...</td>\n",
       "      <td>...</td>\n",
       "      <td>...</td>\n",
       "      <td>...</td>\n",
       "      <td>...</td>\n",
       "      <td>...</td>\n",
       "      <td>...</td>\n",
       "      <td>...</td>\n",
       "      <td>...</td>\n",
       "      <td>...</td>\n",
       "    </tr>\n",
       "    <tr>\n",
       "      <th>6603</th>\n",
       "      <td>83.0</td>\n",
       "      <td>-34.639528</td>\n",
       "      <td>-58.519666</td>\n",
       "      <td>0.0</td>\n",
       "      <td>0.0</td>\n",
       "      <td>0.0</td>\n",
       "      <td>0.0</td>\n",
       "      <td>0.0</td>\n",
       "      <td>0.0</td>\n",
       "      <td>0.0</td>\n",
       "      <td>...</td>\n",
       "      <td>0.0</td>\n",
       "      <td>0.0</td>\n",
       "      <td>0.0</td>\n",
       "      <td>0.0</td>\n",
       "      <td>0.0</td>\n",
       "      <td>0.0</td>\n",
       "      <td>0.0</td>\n",
       "      <td>0.0</td>\n",
       "      <td>0.0</td>\n",
       "      <td>0.0</td>\n",
       "    </tr>\n",
       "    <tr>\n",
       "      <th>6604</th>\n",
       "      <td>45.0</td>\n",
       "      <td>-34.597825</td>\n",
       "      <td>-58.416439</td>\n",
       "      <td>0.0</td>\n",
       "      <td>0.0</td>\n",
       "      <td>0.0</td>\n",
       "      <td>0.0</td>\n",
       "      <td>0.0</td>\n",
       "      <td>0.0</td>\n",
       "      <td>1.0</td>\n",
       "      <td>...</td>\n",
       "      <td>0.0</td>\n",
       "      <td>0.0</td>\n",
       "      <td>0.0</td>\n",
       "      <td>0.0</td>\n",
       "      <td>0.0</td>\n",
       "      <td>0.0</td>\n",
       "      <td>0.0</td>\n",
       "      <td>0.0</td>\n",
       "      <td>0.0</td>\n",
       "      <td>0.0</td>\n",
       "    </tr>\n",
       "    <tr>\n",
       "      <th>6605</th>\n",
       "      <td>42.0</td>\n",
       "      <td>-34.652233</td>\n",
       "      <td>-58.490739</td>\n",
       "      <td>0.0</td>\n",
       "      <td>0.0</td>\n",
       "      <td>0.0</td>\n",
       "      <td>0.0</td>\n",
       "      <td>0.0</td>\n",
       "      <td>0.0</td>\n",
       "      <td>0.0</td>\n",
       "      <td>...</td>\n",
       "      <td>0.0</td>\n",
       "      <td>0.0</td>\n",
       "      <td>0.0</td>\n",
       "      <td>0.0</td>\n",
       "      <td>0.0</td>\n",
       "      <td>0.0</td>\n",
       "      <td>0.0</td>\n",
       "      <td>0.0</td>\n",
       "      <td>0.0</td>\n",
       "      <td>0.0</td>\n",
       "    </tr>\n",
       "    <tr>\n",
       "      <th>6606</th>\n",
       "      <td>48.0</td>\n",
       "      <td>-34.648761</td>\n",
       "      <td>-58.500180</td>\n",
       "      <td>0.0</td>\n",
       "      <td>0.0</td>\n",
       "      <td>0.0</td>\n",
       "      <td>0.0</td>\n",
       "      <td>0.0</td>\n",
       "      <td>0.0</td>\n",
       "      <td>0.0</td>\n",
       "      <td>...</td>\n",
       "      <td>0.0</td>\n",
       "      <td>0.0</td>\n",
       "      <td>0.0</td>\n",
       "      <td>0.0</td>\n",
       "      <td>0.0</td>\n",
       "      <td>0.0</td>\n",
       "      <td>0.0</td>\n",
       "      <td>0.0</td>\n",
       "      <td>0.0</td>\n",
       "      <td>0.0</td>\n",
       "    </tr>\n",
       "    <tr>\n",
       "      <th>6607</th>\n",
       "      <td>46.0</td>\n",
       "      <td>-34.620384</td>\n",
       "      <td>-58.387360</td>\n",
       "      <td>0.0</td>\n",
       "      <td>0.0</td>\n",
       "      <td>0.0</td>\n",
       "      <td>0.0</td>\n",
       "      <td>0.0</td>\n",
       "      <td>0.0</td>\n",
       "      <td>0.0</td>\n",
       "      <td>...</td>\n",
       "      <td>0.0</td>\n",
       "      <td>0.0</td>\n",
       "      <td>0.0</td>\n",
       "      <td>0.0</td>\n",
       "      <td>0.0</td>\n",
       "      <td>0.0</td>\n",
       "      <td>0.0</td>\n",
       "      <td>0.0</td>\n",
       "      <td>0.0</td>\n",
       "      <td>0.0</td>\n",
       "    </tr>\n",
       "  </tbody>\n",
       "</table>\n",
       "<p>6608 rows × 58 columns</p>\n",
       "</div>"
      ],
      "text/plain": [
       "      surface_covered_in_m2        lat        lon  neighborhood_Chacarita  \\\n",
       "0                      70.0 -34.584651 -58.454693                     1.0   \n",
       "1                      42.0 -34.638979 -58.500115                     0.0   \n",
       "2                      54.0 -34.615847 -58.459957                     0.0   \n",
       "3                      42.0 -34.625222 -58.382382                     0.0   \n",
       "4                      50.0 -34.610610 -58.412511                     0.0   \n",
       "...                     ...        ...        ...                     ...   \n",
       "6603                   83.0 -34.639528 -58.519666                     0.0   \n",
       "6604                   45.0 -34.597825 -58.416439                     0.0   \n",
       "6605                   42.0 -34.652233 -58.490739                     0.0   \n",
       "6606                   48.0 -34.648761 -58.500180                     0.0   \n",
       "6607                   46.0 -34.620384 -58.387360                     0.0   \n",
       "\n",
       "      neighborhood_Villa Luro  neighborhood_Caballito  \\\n",
       "0                         0.0                     0.0   \n",
       "1                         1.0                     0.0   \n",
       "2                         0.0                     1.0   \n",
       "3                         0.0                     0.0   \n",
       "4                         0.0                     0.0   \n",
       "...                       ...                     ...   \n",
       "6603                      0.0                     0.0   \n",
       "6604                      0.0                     0.0   \n",
       "6605                      0.0                     0.0   \n",
       "6606                      0.0                     0.0   \n",
       "6607                      0.0                     0.0   \n",
       "\n",
       "      neighborhood_Constituci�n  neighborhood_Once  neighborhood_Almagro  \\\n",
       "0                           0.0                0.0                   0.0   \n",
       "1                           0.0                0.0                   0.0   \n",
       "2                           0.0                0.0                   0.0   \n",
       "3                           1.0                0.0                   0.0   \n",
       "4                           0.0                1.0                   0.0   \n",
       "...                         ...                ...                   ...   \n",
       "6603                        0.0                0.0                   0.0   \n",
       "6604                        0.0                0.0                   0.0   \n",
       "6605                        0.0                0.0                   0.0   \n",
       "6606                        0.0                0.0                   0.0   \n",
       "6607                        0.0                0.0                   0.0   \n",
       "\n",
       "      neighborhood_Palermo  ...  neighborhood_Versalles  neighborhood_Boca  \\\n",
       "0                      0.0  ...                     0.0                0.0   \n",
       "1                      0.0  ...                     0.0                0.0   \n",
       "2                      0.0  ...                     0.0                0.0   \n",
       "3                      0.0  ...                     0.0                0.0   \n",
       "4                      0.0  ...                     0.0                0.0   \n",
       "...                    ...  ...                     ...                ...   \n",
       "6603                   0.0  ...                     0.0                0.0   \n",
       "6604                   1.0  ...                     0.0                0.0   \n",
       "6605                   0.0  ...                     0.0                0.0   \n",
       "6606                   0.0  ...                     0.0                0.0   \n",
       "6607                   0.0  ...                     0.0                0.0   \n",
       "\n",
       "      neighborhood_Puerto Madero  neighborhood_Agronom�a  \\\n",
       "0                            0.0                     0.0   \n",
       "1                            0.0                     0.0   \n",
       "2                            0.0                     0.0   \n",
       "3                            0.0                     0.0   \n",
       "4                            0.0                     0.0   \n",
       "...                          ...                     ...   \n",
       "6603                         0.0                     0.0   \n",
       "6604                         0.0                     0.0   \n",
       "6605                         0.0                     0.0   \n",
       "6606                         0.0                     0.0   \n",
       "6607                         0.0                     0.0   \n",
       "\n",
       "      neighborhood_Monte Castro  neighborhood_Tribunales  \\\n",
       "0                           0.0                      0.0   \n",
       "1                           0.0                      0.0   \n",
       "2                           0.0                      0.0   \n",
       "3                           0.0                      0.0   \n",
       "4                           0.0                      0.0   \n",
       "...                         ...                      ...   \n",
       "6603                        0.0                      0.0   \n",
       "6604                        0.0                      0.0   \n",
       "6605                        0.0                      0.0   \n",
       "6606                        0.0                      0.0   \n",
       "6607                        0.0                      0.0   \n",
       "\n",
       "      neighborhood_Villa Santa Rita  neighborhood_Velez Sarsfield  \\\n",
       "0                               0.0                           0.0   \n",
       "1                               0.0                           0.0   \n",
       "2                               0.0                           0.0   \n",
       "3                               0.0                           0.0   \n",
       "4                               0.0                           0.0   \n",
       "...                             ...                           ...   \n",
       "6603                            0.0                           0.0   \n",
       "6604                            0.0                           0.0   \n",
       "6605                            0.0                           0.0   \n",
       "6606                            0.0                           0.0   \n",
       "6607                            0.0                           0.0   \n",
       "\n",
       "      neighborhood_Villa Soldati  neighborhood_Pompeya  \n",
       "0                            0.0                   0.0  \n",
       "1                            0.0                   0.0  \n",
       "2                            0.0                   0.0  \n",
       "3                            0.0                   0.0  \n",
       "4                            0.0                   0.0  \n",
       "...                          ...                   ...  \n",
       "6603                         0.0                   0.0  \n",
       "6604                         0.0                   0.0  \n",
       "6605                         0.0                   0.0  \n",
       "6606                         0.0                   0.0  \n",
       "6607                         0.0                   0.0  \n",
       "\n",
       "[6608 rows x 58 columns]"
      ]
     },
     "execution_count": 21,
     "metadata": {},
     "output_type": "execute_result"
    }
   ],
   "source": [
    "pd.DataFrame(XTT_train,columns=XT_train.columns)\n",
    "\n"
   ]
  },
  {
   "cell_type": "code",
   "execution_count": 22,
   "id": "65f1197a",
   "metadata": {},
   "outputs": [],
   "source": [
    "ridge = Ridge()"
   ]
  },
  {
   "cell_type": "code",
   "execution_count": 23,
   "id": "76371e0b",
   "metadata": {},
   "outputs": [],
   "source": [
    "model = make_pipeline(\n",
    "    ohe,\n",
    "    imputer,\n",
    "    ridge\n",
    ")"
   ]
  },
  {
   "cell_type": "code",
   "execution_count": 24,
   "id": "26fa5d8f",
   "metadata": {},
   "outputs": [
    {
     "data": {
      "text/plain": [
       "Pipeline(steps=[('onehotencoder',\n",
       "                 OneHotEncoder(cols=['neighborhood'], use_cat_names=True)),\n",
       "                ('simpleimputer', SimpleImputer()), ('ridge', Ridge())])"
      ]
     },
     "execution_count": 24,
     "metadata": {},
     "output_type": "execute_result"
    }
   ],
   "source": [
    "model.fit(X_train,y_train)"
   ]
  },
  {
   "cell_type": "code",
   "execution_count": 25,
   "id": "7ff83476",
   "metadata": {
    "scrolled": false
   },
   "outputs": [
    {
     "data": {
      "text/plain": [
       "Pipeline(steps=[('onehotencoder',\n",
       "                 OneHotEncoder(cols=['neighborhood'], use_cat_names=True)),\n",
       "                ('simpleimputer', SimpleImputer()), ('ridge', Ridge())])"
      ]
     },
     "execution_count": 25,
     "metadata": {},
     "output_type": "execute_result"
    }
   ],
   "source": [
    "model.fit(X_train,y_train)"
   ]
  },
  {
   "cell_type": "markdown",
   "id": "a40d4eda",
   "metadata": {},
   "source": [
    "<b>Task 2.4.13: Calculate the training mean absolute error for your predictions as compared to the true targets in y_train.<b/>"
   ]
  },
  {
   "cell_type": "code",
   "execution_count": 26,
   "id": "2ed32fee",
   "metadata": {},
   "outputs": [
    {
     "name": "stdout",
     "output_type": "stream",
     "text": [
      "Training MAE: 24383.394919263872\n"
     ]
    }
   ],
   "source": [
    "y_pred_training = model.predict(X_train)\n",
    "print(\"Training MAE:\",mean_absolute_error(y_train,y_pred_training))"
   ]
  },
  {
   "cell_type": "markdown",
   "id": "195fd3ca",
   "metadata": {},
   "source": [
    "# comunicate result\n",
    "For this lesson, we've relied on equations and visualizations for communication about our model. In many data science projects, however, communication means giving stakeholders tools they can use to deploy a model — in other words, use it in action. So let's look at two ways you might deploy this model.\n",
    "\n",
    "One thing you might be asked to do it wrap your model in a function so that a programmer can provide inputs and then receive a prediction as output."
   ]
  },
  {
   "cell_type": "markdown",
   "id": "fa460b03",
   "metadata": {},
   "source": [
    "<b> Task 2.4.15: Create a function make_prediction that takes four arguments (area, lat, lon, and neighborhood) and returns your model's prediction for an apartment price.</b>"
   ]
  },
  {
   "cell_type": "code",
   "execution_count": 27,
   "id": "fe502ca6",
   "metadata": {},
   "outputs": [],
   "source": [
    "def make_prediction(area, lat, lon, neighborhood):\n",
    "    data = {\n",
    "        \"surface_covered_in_m2\": area,\n",
    "        \"lat\" : lat,\n",
    "        \"lon\" : lon,\n",
    "        \"neighborhood\": neighborhood\n",
    "    }\n",
    "    \n",
    "    df = pd.DataFrame(data, index=[0])\n",
    "    \n",
    "    prediction = model.predict(df).round(2)[0]\n",
    "    return f\"Predicted apartment price: ${prediction}\""
   ]
  },
  {
   "cell_type": "code",
   "execution_count": 28,
   "id": "caec5da3",
   "metadata": {},
   "outputs": [
    {
     "data": {
      "text/plain": [
       "'Predicted apartment price: $250903.99'"
      ]
     },
     "execution_count": 28,
     "metadata": {},
     "output_type": "execute_result"
    }
   ],
   "source": [
    "make_prediction(110, -34.60, -58.46, \"Villa Crespo\")"
   ]
  },
  {
   "cell_type": "markdown",
   "id": "6ace70ec",
   "metadata": {},
   "source": [
    "Another type of deployment is creating and interactive dashboard, where a user can supply values and receive a prediction. Let's create one using Jupyter Widgets.WQU WorldQuant University Applied Data Science Lab QQQQ"
   ]
  },
  {
   "cell_type": "markdown",
   "id": "9fef80f9",
   "metadata": {},
   "source": [
    "<b>Task 2.4.16: Add your make_prediction to the interact widget below, run the cell, and then adjust the widget to see how predicted apartment price changes.</b>"
   ]
  },
  {
   "cell_type": "code",
   "execution_count": 30,
   "id": "35fda4dd",
   "metadata": {},
   "outputs": [
    {
     "data": {
      "application/vnd.jupyter.widget-view+json": {
       "model_id": "a551e2ce6c224b76bfaffdcda6eda7b7",
       "version_major": 2,
       "version_minor": 0
      },
      "text/plain": [
       "interactive(children=(IntSlider(value=53, description='area', max=101, min=30), FloatSlider(value=-34.59896405…"
      ]
     },
     "metadata": {},
     "output_type": "display_data"
    }
   ],
   "source": [
    "interact(\n",
    "    make_prediction,\n",
    "    area=IntSlider(\n",
    "        min=X_train[\"surface_covered_in_m2\"].min(),\n",
    "        max=X_train[\"surface_covered_in_m2\"].max(),\n",
    "        value=X_train[\"surface_covered_in_m2\"].mean(),\n",
    "    ),\n",
    "    lat=FloatSlider(\n",
    "        min=X_train[\"lat\"].min(),\n",
    "        max=X_train[\"lat\"].max(),\n",
    "        step=0.01,\n",
    "        value=X_train[\"lat\"].mean(),\n",
    "    ),\n",
    "    lon=FloatSlider(\n",
    "        min=X_train[\"lon\"].min(),\n",
    "        max=X_train[\"lon\"].max(),\n",
    "        step=0.01,\n",
    "        value=X_train[\"lon\"].mean(),\n",
    "    ),\n",
    "    neighborhood=Dropdown(options=sorted(X_train[\"neighborhood\"].unique())),\n",
    ");"
   ]
  },
  {
   "cell_type": "markdown",
   "id": "46478337",
   "metadata": {},
   "source": [
    "Great work! You may have noticed that there a lots of ways to improve this dashboard. For instance, a user can select a neighborhood and then supply latitude-longitude coordinates that aren't in that neighborhood. It would also be helpful to include a visualization like a map. Regardless, this is a great first step towards creating dynamic dashboards that turn your model from a complicated abstraction to a concrete tool that anyone can access. One of the most important parts of data science projects is creating products that people can use to make their work or lives easier. "
   ]
  },
  {
   "cell_type": "code",
   "execution_count": null,
   "id": "cfa07c00",
   "metadata": {},
   "outputs": [],
   "source": []
  }
 ],
 "metadata": {
  "kernelspec": {
   "display_name": "Python 3",
   "language": "python",
   "name": "python3"
  },
  "language_info": {
   "codemirror_mode": {
    "name": "ipython",
    "version": 3
   },
   "file_extension": ".py",
   "mimetype": "text/x-python",
   "name": "python",
   "nbconvert_exporter": "python",
   "pygments_lexer": "ipython3",
   "version": "3.8.8"
  }
 },
 "nbformat": 4,
 "nbformat_minor": 5
}
