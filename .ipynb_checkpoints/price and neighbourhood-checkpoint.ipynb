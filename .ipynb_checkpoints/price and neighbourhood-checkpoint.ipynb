{
 "cells": [
  {
   "cell_type": "markdown",
   "id": "78a06a45",
   "metadata": {},
   "source": [
    "# Predicting Price with Neighborhood"
   ]
  },
  {
   "cell_type": "code",
   "execution_count": 1,
   "id": "4b7dd22d",
   "metadata": {},
   "outputs": [],
   "source": [
    "import warnings\n",
    "from glob import glob\n",
    "\n",
    "import matplotlib.pyplot as plt\n",
    "import numpy as np\n",
    "import pandas as pd\n",
    "\n",
    "from category_encoders import OneHotEncoder\n",
    "\n",
    "from sklearn.linear_model import LinearRegression, Ridge  # noqa F401\n",
    "from sklearn.metrics import mean_absolute_error\n",
    "from sklearn.pipeline import make_pipeline\n",
    "from sklearn.utils.validation import check_is_fitted\n",
    "\n",
    "warnings.simplefilter(action=\"ignore\", category=FutureWarning)"
   ]
  },
  {
   "cell_type": "markdown",
   "id": "a83cc82d",
   "metadata": {},
   "source": [
    "In the last lesson, we created a model that used location — represented by latitude and longitude — to predict price. In this lesson, we're going to use a different representation for location: neighborhood."
   ]
  },
  {
   "cell_type": "markdown",
   "id": "8de674d3",
   "metadata": {},
   "source": [
    "# Prepare Data\n",
    "# Import"
   ]
  },
  {
   "cell_type": "code",
   "execution_count": 2,
   "id": "fa119ec8",
   "metadata": {},
   "outputs": [],
   "source": [
    "def wrangle(filepath):\n",
    "    # Read CSV file\n",
    "    df = pd.read_csv(filepath)\n",
    "    #subset to \"capital federal\"\n",
    "    \n",
    "    mask_ba = df[\"place_with_parent_names\"].str.contains(\"Capital Federal\")\n",
    "    #subset to \"Apartment\"\n",
    "    mask_apt = df[\"property_type\"] == \"apartment\"\n",
    "    #subset to proce_usd\n",
    "    mask_price = df[\"price_aprox_usd\"] < 400_000\n",
    "    df = df[mask_ba & mask_apt & mask_price]\n",
    "    \n",
    "    #subset to area\n",
    "    low , high = df[\"surface_covered_in_m2\"].quantile([0.1, 0.9])\n",
    "    mask_area = df[\"surface_covered_in_m2\"].between(low,high)\n",
    "    df = df[mask_area]\n",
    "\n",
    "\n",
    "#     split \"lat-lon\"\n",
    "    df[[\"lat\",\"lon\"]] = df[\"lat-lon\"].str.split(\",\",expand = True).astype(float)\n",
    "    df.drop(columns=\"lat-lon\",inplace = True)\n",
    "    df.drop(columns=\"Unnamed: 0\",inplace = True)\n",
    "    \n",
    "    #extract neighborhood\n",
    "    df[\"neighbourhood\"] = df[ \"place_with_parent_names\"].str.split(\"|\",expand=True)[3]\n",
    "    df.drop(columns=\"place_with_parent_names\" , inplace = True)\n",
    "\n",
    "    return df"
   ]
  },
  {
   "cell_type": "markdown",
   "id": "2f3dad8a",
   "metadata": {},
   "source": [
    "In the last lesson, we used our wrangle function to import two CSV files as DataFrames. But what if we had hundreds of CSV files to import? Wrangling them one-by-one wouldn't be an option. So let's start with a technique for reading several CSV files into a single DataFrame.\n",
    "\n",
    "The first step is to gather the names of all the files we want to import. We can do this using pattern matching."
   ]
  },
  {
   "cell_type": "markdown",
   "id": "be140685",
   "metadata": {},
   "source": [
    "<b> Task 2.3.1: Use glob to create a list that contains the filenames for all the Buenos Aires real estate CSV files in the data directory. Assign this list to the variable name files.</b>"
   ]
  },
  {
   "cell_type": "code",
   "execution_count": 3,
   "id": "dd504220",
   "metadata": {},
   "outputs": [
    {
     "data": {
      "text/plain": [
       "['C:\\\\Users\\\\MEER\\\\Desktop\\\\applied datascience course\\\\project 2 house price prediction\\\\buenos-aires-real-estate-1.csv',\n",
       " 'C:\\\\Users\\\\MEER\\\\Desktop\\\\applied datascience course\\\\project 2 house price prediction\\\\buenos-aires-real-estate-2.csv',\n",
       " 'C:\\\\Users\\\\MEER\\\\Desktop\\\\applied datascience course\\\\project 2 house price prediction\\\\buenos-aires-real-estate-3.csv',\n",
       " 'C:\\\\Users\\\\MEER\\\\Desktop\\\\applied datascience course\\\\project 2 house price prediction\\\\buenos-aires-real-estate-4.csv',\n",
       " 'C:\\\\Users\\\\MEER\\\\Desktop\\\\applied datascience course\\\\project 2 house price prediction\\\\buenos-aires-real-estate-5.csv']"
      ]
     },
     "execution_count": 3,
     "metadata": {},
     "output_type": "execute_result"
    }
   ],
   "source": [
    "files = glob(r\"C:\\Users\\MEER\\Desktop\\applied datascience course\\project 2 house price prediction\\buenos-aires-real-estate-*.csv\")\n",
    "files"
   ]
  },
  {
   "cell_type": "code",
   "execution_count": 4,
   "id": "fb7b9958",
   "metadata": {},
   "outputs": [],
   "source": [
    "# Check your work\n",
    "assert len(files) == 5, f\"`files` should contain 5 items, not {len(files)}\""
   ]
  },
  {
   "cell_type": "markdown",
   "id": "8e00a541",
   "metadata": {},
   "source": [
    "The next step is to read each of the CSVs in files into a DataFrame, and put all of those DataFrames into a list. What's a good way to iterate through files so we can do this? A for loop!"
   ]
  },
  {
   "cell_type": "markdown",
   "id": "750f5634",
   "metadata": {},
   "source": [
    "<b> Task 2.3.2: Use your wrangle function in a for loop to create a list named frames. The list should the cleaned DataFrames created from the CSV filenames your collected in files.</b>"
   ]
  },
  {
   "cell_type": "code",
   "execution_count": 5,
   "id": "d3c9159d",
   "metadata": {},
   "outputs": [],
   "source": [
    "frames = []\n",
    "for file in files:\n",
    "    df = wrangle(file)\n",
    "    frames.append(df)\n",
    "    "
   ]
  },
  {
   "cell_type": "code",
   "execution_count": 6,
   "id": "6ba5331c",
   "metadata": {},
   "outputs": [
    {
     "data": {
      "text/plain": [
       "5"
      ]
     },
     "execution_count": 6,
     "metadata": {},
     "output_type": "execute_result"
    }
   ],
   "source": [
    "len(frames)"
   ]
  },
  {
   "cell_type": "code",
   "execution_count": 7,
   "id": "cf923e1b",
   "metadata": {},
   "outputs": [],
   "source": [
    "# Check your work\n",
    "assert len(frames) == 5, f\"`frames` should contain 5 items, not {len(frames)}\"\n",
    "assert all(\n",
    "    [isinstance(frame, pd.DataFrame) for frame in frames]\n",
    "), \"The items in `frames` should all be DataFrames.\""
   ]
  },
  {
   "cell_type": "markdown",
   "id": "cdb2d99b",
   "metadata": {},
   "source": [
    "The final step is to use pandas to combine all the DataFrames in frames."
   ]
  },
  {
   "cell_type": "markdown",
   "id": "09412f04",
   "metadata": {},
   "source": [
    "<b> Task 2.3.3: Use pd.concat to concatenate the items in frames into a single DataFrame df. Make sure you set the ignore_index argument to True.</b>"
   ]
  },
  {
   "cell_type": "code",
   "execution_count": 8,
   "id": "111fa023",
   "metadata": {},
   "outputs": [
    {
     "data": {
      "text/plain": [
       "(6608, 17)"
      ]
     },
     "execution_count": 8,
     "metadata": {},
     "output_type": "execute_result"
    }
   ],
   "source": [
    "df = pd.concat(frames, ignore_index=True)\n",
    "df.shape"
   ]
  },
  {
   "cell_type": "code",
   "execution_count": 9,
   "id": "f675377d",
   "metadata": {},
   "outputs": [],
   "source": [
    "# Check your work\n",
    "assert len(df) == 6608, f\"`df` is the wrong size: {len(df)}.\""
   ]
  },
  {
   "cell_type": "markdown",
   "id": "66e88c15",
   "metadata": {},
   "source": [
    "Excellent work! You can now clean and combine as many CSV files as your computer can handle. You're well on your way to working with big data. 📈"
   ]
  },
  {
   "cell_type": "markdown",
   "id": "5c4a4786",
   "metadata": {},
   "source": [
    "# Explore\n",
    "Looking through the output from the df.head() call above, there's a little bit more cleaning we need to do before we can work with the neighborhood information in this dataset. The good news is that, because we're using a wrangle function, we only need to change the function to re-clean all of our CSV files. This is why functions are so useful."
   ]
  },
  {
   "cell_type": "markdown",
   "id": "f7a798b3",
   "metadata": {},
   "source": [
    "<b> Task 2.3.4: Modify your wrangle function to create a new feature \"neighborhood\". You can find the neighborhood for each property in the \"place_with_parent_names\" column. For example, a property with the place name \"|Argentina|Capital Federal|Palermo|\" is located in the neighborhood is \"Palermo\". Also, your function should drop the \"place_with_parent_names\" column.</b>"
   ]
  },
  {
   "cell_type": "code",
   "execution_count": null,
   "id": "295c280c",
   "metadata": {},
   "outputs": [],
   "source": []
  },
  {
   "cell_type": "code",
   "execution_count": 10,
   "id": "4106f903",
   "metadata": {},
   "outputs": [
    {
     "data": {
      "text/plain": [
       "(6608, 17)"
      ]
     },
     "execution_count": 10,
     "metadata": {},
     "output_type": "execute_result"
    }
   ],
   "source": [
    "df.shape"
   ]
  },
  {
   "cell_type": "code",
   "execution_count": 11,
   "id": "d614db17",
   "metadata": {},
   "outputs": [],
   "source": [
    "# Check your work\n",
    "assert df.shape == (6608, 17), f\"`df` is the wrong size: {df.shape}.\"\n",
    "assert (\n",
    "    \"place_with_parent_names\" not in df\n",
    "), 'Remember to remove the `\"place_with_parent_names\"` column.'"
   ]
  },
  {
   "cell_type": "markdown",
   "id": "8a6ff41d",
   "metadata": {},
   "source": [
    "# Split\n",
    "At this point, you should feel more comfortable with the splitting data, so we're going to condense the whole process down to one task."
   ]
  },
  {
   "cell_type": "markdown",
   "id": "5ae55e3a",
   "metadata": {},
   "source": [
    "<b> Task 2.3.5: Create your feature matrix X_train and target vector y_train. X_train should contain one feature: \"neighborhood\". Your target is \"price_aprox_usd\".</b>"
   ]
  },
  {
   "cell_type": "code",
   "execution_count": 12,
   "id": "15fbd3b7",
   "metadata": {},
   "outputs": [],
   "source": [
    "target = \"price_aprox_usd\"\n",
    "features = [\"neighbourhood\"]\n",
    "y_train = df[target]\n",
    "X_train = df[features]"
   ]
  },
  {
   "cell_type": "code",
   "execution_count": 13,
   "id": "ddb48aca",
   "metadata": {},
   "outputs": [],
   "source": [
    "# Check your work\n",
    "assert X_train.shape == (6608, 1), f\"`X_train` is the wrong size: {X_train.shape}.\"\n",
    "assert y_train.shape == (6608,), f\"`y_train` is the wrong size: {y_train.shape}.\""
   ]
  },
  {
   "cell_type": "markdown",
   "id": "8fd33427",
   "metadata": {},
   "source": [
    "# Build Model\n",
    "## Baseline\n",
    "Let's also condense the code we use to establish our baseline."
   ]
  },
  {
   "cell_type": "markdown",
   "id": "ea0ea776",
   "metadata": {},
   "source": [
    "<b> Task 2.3.6: Calculate the baseline mean absolute error for your model.</b>"
   ]
  },
  {
   "cell_type": "code",
   "execution_count": 14,
   "id": "b82c4541",
   "metadata": {},
   "outputs": [],
   "source": [
    "y_mean = y_train.mean()\n",
    "y_pred_baseline = [y_mean] * len(y_train)\n",
    "\n"
   ]
  },
  {
   "cell_type": "code",
   "execution_count": 15,
   "id": "a4d2afaf",
   "metadata": {},
   "outputs": [
    {
     "name": "stdout",
     "output_type": "stream",
     "text": [
      "Mean apt price: 133180.0017357747\n",
      "Baseline MAE: 45580.181769041206\n"
     ]
    }
   ],
   "source": [
    "print(\"Mean apt price:\", y_mean)\n",
    "\n",
    "print(\"Baseline MAE:\",mean_absolute_error(y_train , y_pred_baseline))"
   ]
  },
  {
   "cell_type": "markdown",
   "id": "6b91ec1a",
   "metadata": {},
   "source": [
    "The mean apartment price and baseline MAE should be similar but not identical to last lesson. The numbers will change since we're working with more data."
   ]
  },
  {
   "cell_type": "markdown",
   "id": "f5be1854",
   "metadata": {},
   "source": [
    "# Iterate\n",
    "If you try to fit a LinearRegression predictor to your training data at this point, you'll get an error that looks like this:\n",
    "\n",
    "ValueError: could not convert string to float\n",
    "What does this mean? When you fit a linear regression model, you're asking scikit-learn to perform a mathematical operation. The problem is that our training set contains neighborhood information in non-numerical form. In order to create our model we need to encode that information so that it's represented numerically. The good news is that there are lots of transformers that can do this. Here, we'll use the one from the Category Encoders library, called a OneHotEncoder.\n",
    "\n",
    "Before we build include this transformer in our pipeline, let's explore how it works."
   ]
  },
  {
   "cell_type": "markdown",
   "id": "9ea72318",
   "metadata": {},
   "source": [
    "<b> Task 2.3.7: First, instantiate a OneHotEncoder named ohe. Make sure to set the use_cat_names argument to True. Next, fit your transformer to the feature matrix X_train. Finally, use your encoder to transform the feature matrix X_train, and assign the transformed data to the variable XT_train.</b>"
   ]
  },
  {
   "cell_type": "code",
   "execution_count": 16,
   "id": "5ea4bc4d",
   "metadata": {},
   "outputs": [
    {
     "name": "stdout",
     "output_type": "stream",
     "text": [
      "(6608, 55)\n"
     ]
    },
    {
     "data": {
      "text/html": [
       "<div>\n",
       "<style scoped>\n",
       "    .dataframe tbody tr th:only-of-type {\n",
       "        vertical-align: middle;\n",
       "    }\n",
       "\n",
       "    .dataframe tbody tr th {\n",
       "        vertical-align: top;\n",
       "    }\n",
       "\n",
       "    .dataframe thead th {\n",
       "        text-align: right;\n",
       "    }\n",
       "</style>\n",
       "<table border=\"1\" class=\"dataframe\">\n",
       "  <thead>\n",
       "    <tr style=\"text-align: right;\">\n",
       "      <th></th>\n",
       "      <th>neighbourhood_Chacarita</th>\n",
       "      <th>neighbourhood_Villa Luro</th>\n",
       "      <th>neighbourhood_Caballito</th>\n",
       "      <th>neighbourhood_Constituci�n</th>\n",
       "      <th>neighbourhood_Once</th>\n",
       "      <th>neighbourhood_Almagro</th>\n",
       "      <th>neighbourhood_Palermo</th>\n",
       "      <th>neighbourhood_Flores</th>\n",
       "      <th>neighbourhood_Belgrano</th>\n",
       "      <th>neighbourhood_Liniers</th>\n",
       "      <th>...</th>\n",
       "      <th>neighbourhood_Versalles</th>\n",
       "      <th>neighbourhood_Boca</th>\n",
       "      <th>neighbourhood_Puerto Madero</th>\n",
       "      <th>neighbourhood_Agronom�a</th>\n",
       "      <th>neighbourhood_Monte Castro</th>\n",
       "      <th>neighbourhood_Tribunales</th>\n",
       "      <th>neighbourhood_Villa Santa Rita</th>\n",
       "      <th>neighbourhood_Velez Sarsfield</th>\n",
       "      <th>neighbourhood_Villa Soldati</th>\n",
       "      <th>neighbourhood_Pompeya</th>\n",
       "    </tr>\n",
       "  </thead>\n",
       "  <tbody>\n",
       "    <tr>\n",
       "      <th>0</th>\n",
       "      <td>1</td>\n",
       "      <td>0</td>\n",
       "      <td>0</td>\n",
       "      <td>0</td>\n",
       "      <td>0</td>\n",
       "      <td>0</td>\n",
       "      <td>0</td>\n",
       "      <td>0</td>\n",
       "      <td>0</td>\n",
       "      <td>0</td>\n",
       "      <td>...</td>\n",
       "      <td>0</td>\n",
       "      <td>0</td>\n",
       "      <td>0</td>\n",
       "      <td>0</td>\n",
       "      <td>0</td>\n",
       "      <td>0</td>\n",
       "      <td>0</td>\n",
       "      <td>0</td>\n",
       "      <td>0</td>\n",
       "      <td>0</td>\n",
       "    </tr>\n",
       "    <tr>\n",
       "      <th>1</th>\n",
       "      <td>0</td>\n",
       "      <td>1</td>\n",
       "      <td>0</td>\n",
       "      <td>0</td>\n",
       "      <td>0</td>\n",
       "      <td>0</td>\n",
       "      <td>0</td>\n",
       "      <td>0</td>\n",
       "      <td>0</td>\n",
       "      <td>0</td>\n",
       "      <td>...</td>\n",
       "      <td>0</td>\n",
       "      <td>0</td>\n",
       "      <td>0</td>\n",
       "      <td>0</td>\n",
       "      <td>0</td>\n",
       "      <td>0</td>\n",
       "      <td>0</td>\n",
       "      <td>0</td>\n",
       "      <td>0</td>\n",
       "      <td>0</td>\n",
       "    </tr>\n",
       "    <tr>\n",
       "      <th>2</th>\n",
       "      <td>0</td>\n",
       "      <td>0</td>\n",
       "      <td>1</td>\n",
       "      <td>0</td>\n",
       "      <td>0</td>\n",
       "      <td>0</td>\n",
       "      <td>0</td>\n",
       "      <td>0</td>\n",
       "      <td>0</td>\n",
       "      <td>0</td>\n",
       "      <td>...</td>\n",
       "      <td>0</td>\n",
       "      <td>0</td>\n",
       "      <td>0</td>\n",
       "      <td>0</td>\n",
       "      <td>0</td>\n",
       "      <td>0</td>\n",
       "      <td>0</td>\n",
       "      <td>0</td>\n",
       "      <td>0</td>\n",
       "      <td>0</td>\n",
       "    </tr>\n",
       "    <tr>\n",
       "      <th>3</th>\n",
       "      <td>0</td>\n",
       "      <td>0</td>\n",
       "      <td>0</td>\n",
       "      <td>1</td>\n",
       "      <td>0</td>\n",
       "      <td>0</td>\n",
       "      <td>0</td>\n",
       "      <td>0</td>\n",
       "      <td>0</td>\n",
       "      <td>0</td>\n",
       "      <td>...</td>\n",
       "      <td>0</td>\n",
       "      <td>0</td>\n",
       "      <td>0</td>\n",
       "      <td>0</td>\n",
       "      <td>0</td>\n",
       "      <td>0</td>\n",
       "      <td>0</td>\n",
       "      <td>0</td>\n",
       "      <td>0</td>\n",
       "      <td>0</td>\n",
       "    </tr>\n",
       "    <tr>\n",
       "      <th>4</th>\n",
       "      <td>0</td>\n",
       "      <td>0</td>\n",
       "      <td>0</td>\n",
       "      <td>0</td>\n",
       "      <td>1</td>\n",
       "      <td>0</td>\n",
       "      <td>0</td>\n",
       "      <td>0</td>\n",
       "      <td>0</td>\n",
       "      <td>0</td>\n",
       "      <td>...</td>\n",
       "      <td>0</td>\n",
       "      <td>0</td>\n",
       "      <td>0</td>\n",
       "      <td>0</td>\n",
       "      <td>0</td>\n",
       "      <td>0</td>\n",
       "      <td>0</td>\n",
       "      <td>0</td>\n",
       "      <td>0</td>\n",
       "      <td>0</td>\n",
       "    </tr>\n",
       "  </tbody>\n",
       "</table>\n",
       "<p>5 rows × 55 columns</p>\n",
       "</div>"
      ],
      "text/plain": [
       "   neighbourhood_Chacarita  neighbourhood_Villa Luro  neighbourhood_Caballito  \\\n",
       "0                        1                         0                        0   \n",
       "1                        0                         1                        0   \n",
       "2                        0                         0                        1   \n",
       "3                        0                         0                        0   \n",
       "4                        0                         0                        0   \n",
       "\n",
       "   neighbourhood_Constituci�n  neighbourhood_Once  neighbourhood_Almagro  \\\n",
       "0                           0                   0                      0   \n",
       "1                           0                   0                      0   \n",
       "2                           0                   0                      0   \n",
       "3                           1                   0                      0   \n",
       "4                           0                   1                      0   \n",
       "\n",
       "   neighbourhood_Palermo  neighbourhood_Flores  neighbourhood_Belgrano  \\\n",
       "0                      0                     0                       0   \n",
       "1                      0                     0                       0   \n",
       "2                      0                     0                       0   \n",
       "3                      0                     0                       0   \n",
       "4                      0                     0                       0   \n",
       "\n",
       "   neighbourhood_Liniers  ...  neighbourhood_Versalles  neighbourhood_Boca  \\\n",
       "0                      0  ...                        0                   0   \n",
       "1                      0  ...                        0                   0   \n",
       "2                      0  ...                        0                   0   \n",
       "3                      0  ...                        0                   0   \n",
       "4                      0  ...                        0                   0   \n",
       "\n",
       "   neighbourhood_Puerto Madero  neighbourhood_Agronom�a  \\\n",
       "0                            0                        0   \n",
       "1                            0                        0   \n",
       "2                            0                        0   \n",
       "3                            0                        0   \n",
       "4                            0                        0   \n",
       "\n",
       "   neighbourhood_Monte Castro  neighbourhood_Tribunales  \\\n",
       "0                           0                         0   \n",
       "1                           0                         0   \n",
       "2                           0                         0   \n",
       "3                           0                         0   \n",
       "4                           0                         0   \n",
       "\n",
       "   neighbourhood_Villa Santa Rita  neighbourhood_Velez Sarsfield  \\\n",
       "0                               0                              0   \n",
       "1                               0                              0   \n",
       "2                               0                              0   \n",
       "3                               0                              0   \n",
       "4                               0                              0   \n",
       "\n",
       "   neighbourhood_Villa Soldati  neighbourhood_Pompeya  \n",
       "0                            0                      0  \n",
       "1                            0                      0  \n",
       "2                            0                      0  \n",
       "3                            0                      0  \n",
       "4                            0                      0  \n",
       "\n",
       "[5 rows x 55 columns]"
      ]
     },
     "execution_count": 16,
     "metadata": {},
     "output_type": "execute_result"
    }
   ],
   "source": [
    "#instantiate\n",
    "ohe = OneHotEncoder(use_cat_names=True)\n",
    "# Fit\n",
    "ohe.fit(X_train)\n",
    "#Transform\n",
    "XT_train = ohe.transform(X_train)\n",
    "print(XT_train.shape)\n",
    "XT_train.head()"
   ]
  },
  {
   "cell_type": "code",
   "execution_count": 17,
   "id": "9a7651f9",
   "metadata": {},
   "outputs": [],
   "source": [
    "# Check your work\n",
    "assert XT_train.shape == (6608, 55), f\"`XT_train` is the wrong shape: {XT_train.shape}\""
   ]
  },
  {
   "cell_type": "markdown",
   "id": "30e13ba4",
   "metadata": {},
   "source": [
    "Now that we have an idea for how the OneHotEncoder works, let's bring it into our pipeline."
   ]
  },
  {
   "cell_type": "markdown",
   "id": "36b39e1c",
   "metadata": {},
   "source": [
    "<b> Task 2.3.8: Create a pipeline named model that contains a OneHotEncoder transformer and a LinearRegression predictor. Then fit your model to the training data.</b>"
   ]
  },
  {
   "cell_type": "code",
   "execution_count": 18,
   "id": "2e024bcd",
   "metadata": {},
   "outputs": [
    {
     "data": {
      "text/plain": [
       "Pipeline(steps=[('onehotencoder',\n",
       "                 OneHotEncoder(cols=['neighbourhood'], use_cat_names=True)),\n",
       "                ('ridge', Ridge())])"
      ]
     },
     "execution_count": 18,
     "metadata": {},
     "output_type": "execute_result"
    }
   ],
   "source": [
    "model = make_pipeline(\n",
    "    OneHotEncoder(use_cat_names=True),\n",
    "   Ridge()\n",
    ")\n",
    "\n",
    "model.fit(X_train,y_train)"
   ]
  },
  {
   "cell_type": "code",
   "execution_count": 19,
   "id": "8acd8b68",
   "metadata": {},
   "outputs": [],
   "source": [
    "# Check your work\n",
    "check_is_fitted(model[-1])"
   ]
  },
  {
   "cell_type": "markdown",
   "id": "2e2f73d1",
   "metadata": {},
   "source": [
    "# Evaluate\n",
    "Regardless of how you build your model, the evaluation step stays the same. Let's see how our model performs with the training set."
   ]
  },
  {
   "cell_type": "markdown",
   "id": "e32e9c14",
   "metadata": {},
   "source": [
    "<b> Task 2.3.9: First, create a list of predictions for the observations in your feature matrix X_train. Name this list y_pred_training. Then calculate the training mean absolute error for your predictions in y_pred_training as compared to the true targets in y_train.</b>"
   ]
  },
  {
   "cell_type": "code",
   "execution_count": 20,
   "id": "664131c7",
   "metadata": {},
   "outputs": [
    {
     "name": "stdout",
     "output_type": "stream",
     "text": [
      "Training MAE: 39709.22\n"
     ]
    }
   ],
   "source": [
    "y_pred_training = model.predict(X_train)\n",
    "mae_training = mean_absolute_error(y_train,y_pred_training)\n",
    "print(\"Training MAE:\", round(mae_training, 2))"
   ]
  },
  {
   "cell_type": "markdown",
   "id": "66858000",
   "metadata": {},
   "source": [
    "# Communicate Results\n",
    "If we write out the equation for our model, it'll be too big to fit on the screen. That's because, when we used the OneHotEncoder to encode the neighborhood data, we created a much wider DataFrame, and each column/feature has it's own coefficient in our model's equation.\n",
    "\n",
    "Equation: y = β0 + β1 x1 + β2 x2 + ... + β59 x59 + β60 x60 \n",
    "This is important to keep in mind for two reasons. First, it means that this is a high-dimensional model. Instead of a 2D or 3D plot, we'd need a 58-dimensional plot to represent it, which is impossible! Second, it means that we'll need to extract and represent the information for our equation a little differently than before. Let's start by getting our intercept and coefficient."
   ]
  },
  {
   "cell_type": "markdown",
   "id": "02a46728",
   "metadata": {},
   "source": [
    "<b> Task 2.3.11: Extract the intercept and coefficients for your model.</b>"
   ]
  },
  {
   "cell_type": "code",
   "execution_count": 21,
   "id": "3641b1db",
   "metadata": {},
   "outputs": [
    {
     "name": "stdout",
     "output_type": "stream",
     "text": [
      "coefficients len: 55\n",
      "[  -912.48878682  -2435.83118295   6264.64121185 -44698.73727616\n",
      "  -5651.50553524]\n"
     ]
    }
   ],
   "source": [
    "intercept = model.named_steps[\"ridge\"].intercept_\n",
    "coefficients = model.named_steps[\"ridge\"].coef_\n",
    "print(\"coefficients len:\", len(coefficients))\n",
    "print(coefficients[:5])  # First five coefficients"
   ]
  },
  {
   "cell_type": "code",
   "execution_count": 22,
   "id": "4abb13fb",
   "metadata": {},
   "outputs": [],
   "source": [
    "# Check your work\n",
    "assert isinstance(\n",
    "    intercept, float\n",
    "), f\"`intercept` should be a `float`, not {type(intercept)}.\"\n",
    "assert isinstance(\n",
    "    coefficients, np.ndarray\n",
    "), f\"`coefficients` should be a `float`, not {type(coefficients)}.\"\n",
    "assert coefficients.shape == (\n",
    "    55,\n",
    "), f\"`coefficients` is wrong shape: {coefficients.shape}.\""
   ]
  },
  {
   "cell_type": "markdown",
   "id": "a27240d3",
   "metadata": {},
   "source": [
    "We have the values of our coefficients, but how do we know which features they belong to? We'll need to get that information by going into the part of our pipeline that did the encoding."
   ]
  },
  {
   "cell_type": "markdown",
   "id": "d80700e3",
   "metadata": {},
   "source": [
    "<b>Task 2.3.12: Extract the feature names of your encoded data from the OneHotEncoder in your model.</b>"
   ]
  },
  {
   "cell_type": "code",
   "execution_count": 23,
   "id": "5a653c34",
   "metadata": {},
   "outputs": [
    {
     "name": "stdout",
     "output_type": "stream",
     "text": [
      "features len: 55\n",
      "['neighbourhood_Chacarita' 'neighbourhood_Villa Luro'\n",
      " 'neighbourhood_Caballito' 'neighbourhood_Constituci�n'\n",
      " 'neighbourhood_Once']\n"
     ]
    }
   ],
   "source": [
    "feature_names = model.named_steps[\"onehotencoder\"].get_feature_names()\n",
    "print(\"features len:\", len(feature_names))\n",
    "print(feature_names[:5])  # First five feature names"
   ]
  },
  {
   "cell_type": "markdown",
   "id": "3d887c18",
   "metadata": {},
   "source": [
    "We have coefficients and feature names, and now we need to put them together. For that, we'll use a Series."
   ]
  },
  {
   "cell_type": "markdown",
   "id": "c902364b",
   "metadata": {},
   "source": [
    "<b>Task 2.3.13: Create a pandas Series named feat_imp where the index is your features and the values are your coefficients.</b>"
   ]
  },
  {
   "cell_type": "code",
   "execution_count": 24,
   "id": "70d6fcff",
   "metadata": {},
   "outputs": [
    {
     "data": {
      "text/plain": [
       "neighbourhood_Chacarita        -912.488787\n",
       "neighbourhood_Villa Luro      -2435.831183\n",
       "neighbourhood_Caballito        6264.641212\n",
       "neighbourhood_Constituci�n   -44698.737276\n",
       "neighbourhood_Once            -5651.505535\n",
       "dtype: float64"
      ]
     },
     "execution_count": 24,
     "metadata": {},
     "output_type": "execute_result"
    }
   ],
   "source": [
    "feat_imp = pd.Series(coefficients,index=feature_names)\n",
    "feat_imp.head()"
   ]
  },
  {
   "cell_type": "markdown",
   "id": "184995de",
   "metadata": {},
   "source": [
    "To be clear, it's definitely not a good idea to show this long equation to an audience, but let's print it out just to check our work. Since there are so many terms to print, we'll use a for loop."
   ]
  },
  {
   "cell_type": "markdown",
   "id": "6097ab2d",
   "metadata": {},
   "source": [
    "<b>Task 2.3.14: Run the cell below to print the equation that your model has determined for predicting apartment price based on longitude and latitude.</b>"
   ]
  },
  {
   "cell_type": "code",
   "execution_count": 25,
   "id": "70d70406",
   "metadata": {},
   "outputs": [
    {
     "name": "stdout",
     "output_type": "stream",
     "text": [
      "price = 120504.5\n",
      "+ (-912.49 * neighbourhood_Chacarita)\n",
      "+ (-2435.83 * neighbourhood_Villa Luro)\n",
      "+ (6264.64 * neighbourhood_Caballito)\n",
      "+ (-44698.74 * neighbourhood_Constituci�n)\n",
      "+ (-5651.51 * neighbourhood_Once)\n",
      "+ (1389.45 * neighbourhood_Almagro)\n",
      "+ (45737.76 * neighbourhood_Palermo)\n",
      "+ (-11677.82 * neighbourhood_Flores)\n",
      "+ (45214.21 * neighbourhood_Belgrano)\n",
      "+ (-12325.63 * neighbourhood_Liniers)\n",
      "+ (5882.95 * neighbourhood_Villa Crespo)\n",
      "+ (-12892.74 * neighbourhood_San Cristobal)\n",
      "+ (-7049.82 * neighbourhood_Congreso)\n",
      "+ (9751.74 * neighbourhood_Saavedra)\n",
      "+ (-12729.03 * neighbourhood_Balvanera)\n",
      "+ (-28386.59 * neighbourhood_Parque Avellaneda)\n",
      "+ (74952.06 * neighbourhood_Recoleta)\n",
      "+ (4382.08 * neighbourhood_San Telmo)\n",
      "+ (44931.55 * neighbourhood_Nu�ez)\n",
      "+ (57234.99 * neighbourhood_Barrio Norte)\n",
      "+ (-7131.49 * neighbourhood_Parque Centenario)\n",
      "+ (5977.15 * neighbourhood_Abasto)\n",
      "+ (-8070.88 * neighbourhood_Centro / Microcentro)\n",
      "+ (-24653.91 * neighbourhood_)\n",
      "+ (-5017.39 * neighbourhood_Paternal)\n",
      "+ (-20282.86 * neighbourhood_Mataderos)\n",
      "+ (-53170.24 * neighbourhood_Villa Lugano)\n",
      "+ (13064.77 * neighbourhood_Coghlan)\n",
      "+ (81732.86 * neighbourhood_Las Ca�itas)\n",
      "+ (10708.54 * neighbourhood_Villa Urquiza)\n",
      "+ (-21249.65 * neighbourhood_Monserrat)\n",
      "+ (-11619.21 * neighbourhood_Villa Pueyrred�n)\n",
      "+ (-18933.85 * neighbourhood_Parque Patricios)\n",
      "+ (-12964.42 * neighbourhood_San Nicol�s)\n",
      "+ (-12990.18 * neighbourhood_Villa del Parque)\n",
      "+ (-6419.27 * neighbourhood_Boedo)\n",
      "+ (-10437.69 * neighbourhood_Parque Chacabuco)\n",
      "+ (-4284.45 * neighbourhood_Barracas)\n",
      "+ (-27843.45 * neighbourhood_Parque Chas)\n",
      "+ (31756.43 * neighbourhood_Colegiales)\n",
      "+ (3448.1 * neighbourhood_Villa General Mitre)\n",
      "+ (-7424.2 * neighbourhood_Villa Ortuzar)\n",
      "+ (-76.55 * neighbourhood_Villa Devoto)\n",
      "+ (-13384.28 * neighbourhood_Floresta)\n",
      "+ (22988.11 * neighbourhood_Retiro)\n",
      "+ (3579.58 * neighbourhood_Versalles)\n",
      "+ (-31437.33 * neighbourhood_Boca)\n",
      "+ (128502.08 * neighbourhood_Puerto Madero)\n",
      "+ (-6264.52 * neighbourhood_Agronom�a)\n",
      "+ (5230.48 * neighbourhood_Monte Castro)\n",
      "+ (-9139.09 * neighbourhood_Tribunales)\n",
      "+ (-19230.48 * neighbourhood_Villa Santa Rita)\n",
      "+ (-22628.37 * neighbourhood_Velez Sarsfield)\n",
      "+ (-58015.03 * neighbourhood_Villa Soldati)\n",
      "+ (-51300.51 * neighbourhood_Pompeya)\n"
     ]
    }
   ],
   "source": [
    "print(f\"price = {intercept.round(2)}\")\n",
    "for f, c in feat_imp.items():\n",
    "    print(f\"+ ({round(c, 2)} * {f})\")"
   ]
  },
  {
   "cell_type": "markdown",
   "id": "750bee71",
   "metadata": {},
   "source": [
    "<b>Task 2.3.15: Scroll up, change the predictor in your model to Ridge, and retrain it. Then evaluate the model's training and test performance. Do you still have an overfitting problem? If not, extract the intercept and coefficients again (you'll need to change your code a little bit) and regenerate the model's equation. Does it look different than before?</b>"
   ]
  },
  {
   "cell_type": "markdown",
   "id": "aec048cb",
   "metadata": {},
   "source": [
    "We're back on track with our model, so let's create a visualization that will help a non-technical audience understand what the most important features for our model in predicting apartment price."
   ]
  },
  {
   "cell_type": "markdown",
   "id": "39fa1a3a",
   "metadata": {},
   "source": [
    "<b>Task 2.3.16: Create a horizontal bar chart that shows the top 15 coefficients for your model, based on their absolute value.</b>"
   ]
  },
  {
   "cell_type": "code",
   "execution_count": 26,
   "id": "cb069717",
   "metadata": {},
   "outputs": [
    {
     "data": {
      "image/png": "[encoded data removed]",
      "text/plain": [
       "<Figure size 432x288 with 1 Axes>"
      ]
     },
     "metadata": {
      "needs_background": "light"
     },
     "output_type": "display_data"
    }
   ],
   "source": [
    "feat_imp.sort_values(key=abs).tail(15).plot(kind=\"barh\")\n",
    "plt.xlabel(\"Importance [usd]\")\n",
    "plt.ylabel(\"Features\")\n",
    "plt.title(\"Features Importance for apt\");"
   ]
  },
  {
   "cell_type": "markdown",
   "id": "851bd560",
   "metadata": {},
   "source": [
    "Looking at this bar chart, we can see that the poshest neighborhoods in Buenos Aires like Puerto Madero and Recoleta increase the predicted price of an apartment, while more working-class neighborhoods like Villa Soldati and Villa Lugano decrease the predicted price.\n",
    "\n",
    "Just for fun, check out this song by Kevin Johansen about Puerto Madero. 🎶"
   ]
  },
  {
   "cell_type": "code",
   "execution_count": null,
   "id": "9e3a040c",
   "metadata": {},
   "outputs": [],
   "source": []
  }
 ],
 "metadata": {
  "kernelspec": {
   "display_name": "Python 3",
   "language": "python",
   "name": "python3"
  },
  "language_info": {
   "codemirror_mode": {
    "name": "ipython",
    "version": 3
   },
   "file_extension": ".py",
   "mimetype": "text/x-python",
   "name": "python",
   "nbconvert_exporter": "python",
   "pygments_lexer": "ipython3",
   "version": "3.8.8"
  }
 },
 "nbformat": 4,
 "nbformat_minor": 5
}
